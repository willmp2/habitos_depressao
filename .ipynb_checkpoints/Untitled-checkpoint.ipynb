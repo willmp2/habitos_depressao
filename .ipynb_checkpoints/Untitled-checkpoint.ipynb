{
 "cells": [
  {
   "cell_type": "markdown",
   "id": "71259610",
   "metadata": {},
   "source": [
    " **INTRODUÇÃO**\n",
    " \n",
    "*DEPRESSÃO E HÁBITOS SAUDÁVEIS*\n",
    "\n",
    "O transtorno depressivo representa um grande problema de saúde pública e é apontado como uma das principais causas de doenças e debilitações segundo a Organização Mundial da Saúde (OMS). A depressão resulta de uma interação complexa de fatores sociais, psicológicos e biológicos e, embora o acesso a diagnósticos e tratamentos esteja aumentando, muitos ainda não possuem acesso ao controle adequado dos sintomas depressivos.\n",
    "\n",
    "<img src=\"img2.png\" alt=\"Image\" height=\"400\" width=\"400\">\n",
    "\n",
    "O National Health and Nutrition Examination Survey (NHANES) é uma pesquisa anual conduzida pelo National Center for Health Statistics (NCHS) do Centro de Controle e Prevenção de Doenças (Centers for Disease Control - CDC) para avaliar a saúde e nutrição de adultos e crianças dos Estados Unidos. Dados coletados incluem questões demográficas, socioeconômicas, dietéticas e relacionadas à saúde, com o componente de exame contendo medidas médicas, odontológicas, fisiológicas e exames laboratoriais.\n",
    "\n",
    "O Patient Health Questionnaire-9 (PHQ-9) é um instrumento utilizado para avaliar o grau de depressão em pacientes. O questionário consiste de 9 itens em que os respondentes indicam a frequência (0 = “nenhuma vez”, 1 = “menos de uma semana”, 2 = “uma semana ou mais” e 3 = “quase todos os dias”) de sintomas de depressão nas duas últimas semanas.\n",
    "\n",
    "\n",
    "<img src=\"img1.png\" alt=\"Image\" height=\"400\" width=\"400\">"
   ]
  },
  {
   "cell_type": "markdown",
   "id": "6c53a38a",
   "metadata": {},
   "source": [
    "**INFORMAÇÕES DOS DATASETS**"
   ]
  },
  {
   "cell_type": "markdown",
   "id": "42691a46",
   "metadata": {},
   "source": [
    "**DEMO_PHQ.csv: banco de dados contendo 5334 observações de adultos pesquisados no NHANES 2005-2006.**\n",
    "\n",
    "**SEQN** - Identificador único do respondente.\n",
    "\n",
    "**DPQ010** - Pouco interesse ou pouco prazer em fazer as coisas.\n",
    "\n",
    "**DPQ020** - Se sentiu para baixo, deprimido(a) ou sem perspectiva.\n",
    "\n",
    "**DPQ030** - Dificuldade para pegar no sono ou permanecer dormindo ou dormiu mais do que o\n",
    "costume.\n",
    "\n",
    "**DPQ040** - Se sentiu cansado(a) ou com pouca energia.\n",
    "\n",
    "**DPQ050** - Falta de apetite ou comeu demais.\n",
    "\n",
    "**DPQ060** - Se sentiu mal consigo mesmo(a) ou achou que é um fracasso ou que decepcionou\n",
    "sua família ou a você mesmo(a).\n",
    "\n",
    "**DPQ070** - Dificuldade para se concentrar nas coisas (como ler o jornal ou ver televisão).\n",
    "\n",
    "**DPQ080** - Teve lentidão para se movimentar ou falar (a ponto de outras pessoas\n",
    "perceberem), ou ao contrário, esteve tão agitado(a) que você ficava andando de\n",
    "um lado para o outro mais do que costume.\n",
    "\n",
    "**DPQ090** - Pensou em se ferir de alguma maneira ou que seria melhor estar morto(a).\n",
    "\n",
    "\n",
    "\n",
    "As respostas para as questões acimas são divididas nas seguintes escalas:\n",
    "\n",
    "Nas últimas 2 semanas, com que frequência você ficou incomodado por algum dos problemas:\n",
    "\n",
    "*0 = Nenhuma vez | 1 = Menos de uma semana | 2 = Uma semana ou mais | 3 = Quase todos os dias | 7 = Se recusou a responder |\n",
    "9 = Não sabe*\n",
    "\n",
    "\n",
    "<b> O escore total é calculado a partir da soma dos itens 1-9 e varia de 0 a 27, em que maiores valores do escore indicam maiores frequências de sintomas de depressão. Aqueles com pontuação maior ou igual a 5 para o escore total de PHQ-9 são considerados como tendo sintomas leves (5-9), moderados (10-14), moderadamente severos (15-19) e severos de depressão (>= 20). <b>\n",
    "\n",
    "\n",
    "**Demais dados do arquivo**:\n",
    "\n",
    "**RIAGENDR** - Gênero              (*1 = Masculino 2 = Feminino*)\n",
    "\n",
    "\n",
    "**RIDAGEYR** - Idade em anos\n",
    "\n",
    "**RIDRETH1** - Raça/Etnia  *(1 = Branco não-hispânico 2 = Negro não-hispânico 3 =Mexicano-americano 4 = Outro 5 = Outro \n",
    "Hispânico)*\n",
    "\n",
    "**DMDEDUC** - Escolaridade *(1 = Menor que 9 ano; 2 = 9-12 ano ; 3 = Ensino médio ; 4 = Ensino superior incompleto ; 5 = Superior completo ou maior ; 7 = Se recusou a responder ; 9 = Não sabe)*\n",
    "\n",
    "\n",
    "**INDFMINC** - Renda anual familiar (US$) *(1 = 0-4.999; 2 - 5.000-9.999; 3 = 10.000-14.999 ; 4 = 15.000-19.999 ;  5 = 20.000-24.999; 6 = 25.000-34.999; 7 = 35.000-44.999;  8 = 45.000-54.999; 9 = 55.000-64.999;  10 = 65.000-74.999; 11 = Maior ou igual a 75.000; 12 = Maior que 20.000; 13 = Menor que 20.000;  77 = Se recusou a responder; 99 = Não sabe)*"
   ]
  },
  {
   "cell_type": "markdown",
   "id": "91792b56",
   "metadata": {},
   "source": [
    "**PAG_HEI.csv: banco de dados contendo 9424 observações de crianças e adultos pesquisados no NHANES 2005-2006.**\n",
    "\n",
    "**SEQN** - Identificador único do respondente.\n",
    "\n",
    "**PAG_MINW** - Tempo total semanal de atividade aeróbica moderada-vigorosa em minutos segundo PAG\n",
    "\n",
    "**ADHERENCE** - Grupo de aderência ao Physical Activity Guideline (PAG) *(1 = Baixo (< 150 min/semana); 2 = Adequado (150-300\n",
    "min/semana); 3 = Acima (> 300 min/semana)*\n",
    "\n",
    "**HEI2015C1_TOTALVEG** -  Healthy Eating Index - Componente 1 - Total de Vegetais *(0-5)*\n",
    "\n",
    "**HEI2015C2_GREEN_AND_BEAN** - Healthy Eating Index - Componente 2 - Verduras verde-escuras e leguminosas *(0-5)*\n",
    "\n",
    "**HEI2015C3_TOTALFRUIT** - Healthy Eating Index - Componente 3 - Frutas totais *(0-5)*\n",
    "\n",
    "\n",
    "**HEI2015C4_WHOLEFRUIT** - Healthy Eating Index - Componente 4 - Frutas in natura *(0-5)*\n",
    "\n",
    "\n",
    "**HEI2015C5_WHOLEGRAIN** - Healthy Eating Index - Componente 5 - Grãos integrais *(0-10)*\n",
    "\n",
    "\n",
    "**HEI2015C6_TOTALDAIRY** - Healthy Eating Index - Componente 6 - Laticínios *(0-10)*\n",
    "\n",
    "\n",
    "**HEI2015C7_TOTPROT** - Healthy Eating Index - Componente 7 - Proteínas *(0-5)*\n",
    "\n",
    "\n",
    "**HEI2015C8_SEAPLANT_PROT** - Healthy Eating Index - Componente 8 - Plantas marinhas e proteínas vegetais *(0-5)*\n",
    "\n",
    "\n",
    "**HEI2015C9_FATTYACID** - Healthy Eating Index - Componente 9 - Ácido-graxo *(0-10)*\n",
    "\n",
    "\n",
    "**HEI2015C10_SODIUM** - Healthy Eating Index - Componente 10 - Sódio *(0-10)*\n",
    "\n",
    "\n",
    "**HEI2015C11_REFINEDGRAIN** - Healthy Eating Index - Componente 11 - Grãos refinados *(0-10)*\n",
    "\n",
    "\n",
    "**HEI2015C12_SFAT** - Healthy Eating Index - Componente 12 - Gordura saturada *(0-10)*\n",
    "\n",
    "\n",
    "**HEI2015C13_ADDSUG** - Healthy Eating Index - Componente 13 - Açúcares adicionados *(0-10)*\n",
    "\n",
    "\n",
    "**HEI2015_TOTAL_SCORE** - Healthy Eating Index - Escore total *(0-100)*"
   ]
  },
  {
   "cell_type": "markdown",
   "id": "a5d318e5",
   "metadata": {},
   "source": [
    "**IMPORTANDO AS BIBLIOTECAS**"
   ]
  },
  {
   "cell_type": "code",
   "execution_count": 39,
   "id": "4eadb1f2",
   "metadata": {},
   "outputs": [],
   "source": [
    "import numpy as np\n",
    "import pandas as pd\n",
    "import seaborn as sns\n",
    "import matplotlib.pyplot as plt\n",
    "%matplotlib inline\n",
    "import plotly.express as px\n",
    "import warnings\n",
    "warnings.filterwarnings('ignore')\n",
    "import missingno as msno\n",
    "\n",
    "\n",
    "params = {'legend.fontsize': 'x-large',\n",
    "          'figure.figsize': (12, 8),\n",
    "          'axes.labelsize': 'x-large',\n",
    "          'axes.titlesize':'x-large',\n",
    "          'xtick.labelsize':'x-large',\n",
    "          'ytick.labelsize':'x-large'}\n",
    "\n",
    "%matplotlib inline\n",
    "plt.rcParams.update(params)"
   ]
  },
  {
   "cell_type": "markdown",
   "id": "4ba9e175",
   "metadata": {},
   "source": [
    "**CARREGANDO E VISUALIZANDO OS DADOS**"
   ]
  },
  {
   "cell_type": "code",
   "execution_count": 3,
   "id": "571acae2",
   "metadata": {},
   "outputs": [
    {
     "data": {
      "text/html": [
       "<div>\n",
       "<style scoped>\n",
       "    .dataframe tbody tr th:only-of-type {\n",
       "        vertical-align: middle;\n",
       "    }\n",
       "\n",
       "    .dataframe tbody tr th {\n",
       "        vertical-align: top;\n",
       "    }\n",
       "\n",
       "    .dataframe thead th {\n",
       "        text-align: right;\n",
       "    }\n",
       "</style>\n",
       "<table border=\"1\" class=\"dataframe\">\n",
       "  <thead>\n",
       "    <tr style=\"text-align: right;\">\n",
       "      <th></th>\n",
       "      <th>SEQN</th>\n",
       "      <th>DPQ010</th>\n",
       "      <th>DPQ020</th>\n",
       "      <th>DPQ030</th>\n",
       "      <th>DPQ040</th>\n",
       "      <th>DPQ050</th>\n",
       "      <th>DPQ060</th>\n",
       "      <th>DPQ070</th>\n",
       "      <th>DPQ080</th>\n",
       "      <th>DPQ090</th>\n",
       "      <th>RIAGENDR</th>\n",
       "      <th>RIDAGEYR</th>\n",
       "      <th>RIDRETH1</th>\n",
       "      <th>DMDEDUC</th>\n",
       "      <th>INDFMINC</th>\n",
       "    </tr>\n",
       "  </thead>\n",
       "  <tbody>\n",
       "    <tr>\n",
       "      <th>0</th>\n",
       "      <td>31130</td>\n",
       "      <td>NaN</td>\n",
       "      <td>NaN</td>\n",
       "      <td>NaN</td>\n",
       "      <td>NaN</td>\n",
       "      <td>NaN</td>\n",
       "      <td>NaN</td>\n",
       "      <td>NaN</td>\n",
       "      <td>NaN</td>\n",
       "      <td>NaN</td>\n",
       "      <td>2</td>\n",
       "      <td>85</td>\n",
       "      <td>3</td>\n",
       "      <td>4</td>\n",
       "      <td>4.0</td>\n",
       "    </tr>\n",
       "    <tr>\n",
       "      <th>1</th>\n",
       "      <td>31131</td>\n",
       "      <td>0.0</td>\n",
       "      <td>0.0</td>\n",
       "      <td>0.0</td>\n",
       "      <td>0.0</td>\n",
       "      <td>0.0</td>\n",
       "      <td>0.0</td>\n",
       "      <td>0.0</td>\n",
       "      <td>0.0</td>\n",
       "      <td>0.0</td>\n",
       "      <td>2</td>\n",
       "      <td>44</td>\n",
       "      <td>4</td>\n",
       "      <td>4</td>\n",
       "      <td>11.0</td>\n",
       "    </tr>\n",
       "    <tr>\n",
       "      <th>2</th>\n",
       "      <td>31132</td>\n",
       "      <td>0.0</td>\n",
       "      <td>0.0</td>\n",
       "      <td>0.0</td>\n",
       "      <td>0.0</td>\n",
       "      <td>0.0</td>\n",
       "      <td>0.0</td>\n",
       "      <td>0.0</td>\n",
       "      <td>0.0</td>\n",
       "      <td>0.0</td>\n",
       "      <td>1</td>\n",
       "      <td>70</td>\n",
       "      <td>3</td>\n",
       "      <td>5</td>\n",
       "      <td>11.0</td>\n",
       "    </tr>\n",
       "    <tr>\n",
       "      <th>3</th>\n",
       "      <td>31134</td>\n",
       "      <td>0.0</td>\n",
       "      <td>0.0</td>\n",
       "      <td>0.0</td>\n",
       "      <td>0.0</td>\n",
       "      <td>0.0</td>\n",
       "      <td>0.0</td>\n",
       "      <td>0.0</td>\n",
       "      <td>0.0</td>\n",
       "      <td>0.0</td>\n",
       "      <td>1</td>\n",
       "      <td>73</td>\n",
       "      <td>3</td>\n",
       "      <td>3</td>\n",
       "      <td>12.0</td>\n",
       "    </tr>\n",
       "    <tr>\n",
       "      <th>4</th>\n",
       "      <td>31139</td>\n",
       "      <td>0.0</td>\n",
       "      <td>0.0</td>\n",
       "      <td>0.0</td>\n",
       "      <td>0.0</td>\n",
       "      <td>3.0</td>\n",
       "      <td>1.0</td>\n",
       "      <td>0.0</td>\n",
       "      <td>0.0</td>\n",
       "      <td>0.0</td>\n",
       "      <td>2</td>\n",
       "      <td>18</td>\n",
       "      <td>2</td>\n",
       "      <td>3</td>\n",
       "      <td>11.0</td>\n",
       "    </tr>\n",
       "  </tbody>\n",
       "</table>\n",
       "</div>"
      ],
      "text/plain": [
       "    SEQN  DPQ010  DPQ020  DPQ030  DPQ040  DPQ050  DPQ060  DPQ070  DPQ080  \\\n",
       "0  31130     NaN     NaN     NaN     NaN     NaN     NaN     NaN     NaN   \n",
       "1  31131     0.0     0.0     0.0     0.0     0.0     0.0     0.0     0.0   \n",
       "2  31132     0.0     0.0     0.0     0.0     0.0     0.0     0.0     0.0   \n",
       "3  31134     0.0     0.0     0.0     0.0     0.0     0.0     0.0     0.0   \n",
       "4  31139     0.0     0.0     0.0     0.0     3.0     1.0     0.0     0.0   \n",
       "\n",
       "   DPQ090  RIAGENDR  RIDAGEYR  RIDRETH1  DMDEDUC  INDFMINC  \n",
       "0     NaN         2        85         3        4       4.0  \n",
       "1     0.0         2        44         4        4      11.0  \n",
       "2     0.0         1        70         3        5      11.0  \n",
       "3     0.0         1        73         3        3      12.0  \n",
       "4     0.0         2        18         2        3      11.0  "
      ]
     },
     "execution_count": 3,
     "metadata": {},
     "output_type": "execute_result"
    }
   ],
   "source": [
    "df1 = pd.read_csv('DEMO_PHQ.csv')\n",
    "df2 = pd.read_csv('PAG_HEI.csv')\n",
    "\n",
    "df1.head()"
   ]
  },
  {
   "cell_type": "code",
   "execution_count": 4,
   "id": "71249955",
   "metadata": {},
   "outputs": [
    {
     "data": {
      "text/html": [
       "<div>\n",
       "<style scoped>\n",
       "    .dataframe tbody tr th:only-of-type {\n",
       "        vertical-align: middle;\n",
       "    }\n",
       "\n",
       "    .dataframe tbody tr th {\n",
       "        vertical-align: top;\n",
       "    }\n",
       "\n",
       "    .dataframe thead th {\n",
       "        text-align: right;\n",
       "    }\n",
       "</style>\n",
       "<table border=\"1\" class=\"dataframe\">\n",
       "  <thead>\n",
       "    <tr style=\"text-align: right;\">\n",
       "      <th></th>\n",
       "      <th>SEQN</th>\n",
       "      <th>PAG_MINW</th>\n",
       "      <th>ADHERENCE</th>\n",
       "      <th>HEI2015C1_TOTALVEG</th>\n",
       "      <th>HEI2015C2_GREEN_AND_BEAN</th>\n",
       "      <th>HEI2015C3_TOTALFRUIT</th>\n",
       "      <th>HEI2015C4_WHOLEFRUIT</th>\n",
       "      <th>HEI2015C5_WHOLEGRAIN</th>\n",
       "      <th>HEI2015C6_TOTALDAIRY</th>\n",
       "      <th>HEI2015C7_TOTPROT</th>\n",
       "      <th>HEI2015C8_SEAPLANT_PROT</th>\n",
       "      <th>HEI2015C9_FATTYACID</th>\n",
       "      <th>HEI2015C10_SODIUM</th>\n",
       "      <th>HEI2015C11_REFINEDGRAIN</th>\n",
       "      <th>HEI2015C12_SFAT</th>\n",
       "      <th>HEI2015C13_ADDSUG</th>\n",
       "      <th>HEI2015_TOTAL_SCORE</th>\n",
       "    </tr>\n",
       "  </thead>\n",
       "  <tbody>\n",
       "    <tr>\n",
       "      <th>0</th>\n",
       "      <td>31128</td>\n",
       "      <td>NaN</td>\n",
       "      <td>NaN</td>\n",
       "      <td>3.083350</td>\n",
       "      <td>0.0</td>\n",
       "      <td>3.927008</td>\n",
       "      <td>5.000000</td>\n",
       "      <td>0.000000</td>\n",
       "      <td>5.000000</td>\n",
       "      <td>4.251329</td>\n",
       "      <td>0.000000</td>\n",
       "      <td>2.487572</td>\n",
       "      <td>6.911882</td>\n",
       "      <td>10.000000</td>\n",
       "      <td>0.818029</td>\n",
       "      <td>6.408092</td>\n",
       "      <td>47.887262</td>\n",
       "    </tr>\n",
       "    <tr>\n",
       "      <th>1</th>\n",
       "      <td>31129</td>\n",
       "      <td>285.450346</td>\n",
       "      <td>2.0</td>\n",
       "      <td>1.697761</td>\n",
       "      <td>0.0</td>\n",
       "      <td>3.731602</td>\n",
       "      <td>4.929186</td>\n",
       "      <td>0.527631</td>\n",
       "      <td>3.887809</td>\n",
       "      <td>4.693141</td>\n",
       "      <td>0.928562</td>\n",
       "      <td>3.740758</td>\n",
       "      <td>6.146441</td>\n",
       "      <td>7.274979</td>\n",
       "      <td>8.006457</td>\n",
       "      <td>0.000000</td>\n",
       "      <td>45.564326</td>\n",
       "    </tr>\n",
       "    <tr>\n",
       "      <th>2</th>\n",
       "      <td>31130</td>\n",
       "      <td>0.000000</td>\n",
       "      <td>1.0</td>\n",
       "      <td>NaN</td>\n",
       "      <td>NaN</td>\n",
       "      <td>NaN</td>\n",
       "      <td>NaN</td>\n",
       "      <td>NaN</td>\n",
       "      <td>NaN</td>\n",
       "      <td>NaN</td>\n",
       "      <td>NaN</td>\n",
       "      <td>NaN</td>\n",
       "      <td>NaN</td>\n",
       "      <td>NaN</td>\n",
       "      <td>NaN</td>\n",
       "      <td>NaN</td>\n",
       "      <td>NaN</td>\n",
       "    </tr>\n",
       "    <tr>\n",
       "      <th>3</th>\n",
       "      <td>31131</td>\n",
       "      <td>264.711316</td>\n",
       "      <td>2.0</td>\n",
       "      <td>3.115103</td>\n",
       "      <td>0.0</td>\n",
       "      <td>5.000000</td>\n",
       "      <td>1.320674</td>\n",
       "      <td>0.000000</td>\n",
       "      <td>3.141062</td>\n",
       "      <td>4.071959</td>\n",
       "      <td>2.052399</td>\n",
       "      <td>0.684985</td>\n",
       "      <td>2.297100</td>\n",
       "      <td>9.512964</td>\n",
       "      <td>0.438428</td>\n",
       "      <td>3.919226</td>\n",
       "      <td>35.553899</td>\n",
       "    </tr>\n",
       "    <tr>\n",
       "      <th>4</th>\n",
       "      <td>31132</td>\n",
       "      <td>1353.348730</td>\n",
       "      <td>3.0</td>\n",
       "      <td>3.509081</td>\n",
       "      <td>0.0</td>\n",
       "      <td>5.000000</td>\n",
       "      <td>5.000000</td>\n",
       "      <td>5.000000</td>\n",
       "      <td>4.448512</td>\n",
       "      <td>5.000000</td>\n",
       "      <td>0.000000</td>\n",
       "      <td>2.050769</td>\n",
       "      <td>7.369489</td>\n",
       "      <td>8.887880</td>\n",
       "      <td>8.186877</td>\n",
       "      <td>9.099088</td>\n",
       "      <td>63.551696</td>\n",
       "    </tr>\n",
       "  </tbody>\n",
       "</table>\n",
       "</div>"
      ],
      "text/plain": [
       "    SEQN     PAG_MINW  ADHERENCE  HEI2015C1_TOTALVEG  \\\n",
       "0  31128          NaN        NaN            3.083350   \n",
       "1  31129   285.450346        2.0            1.697761   \n",
       "2  31130     0.000000        1.0                 NaN   \n",
       "3  31131   264.711316        2.0            3.115103   \n",
       "4  31132  1353.348730        3.0            3.509081   \n",
       "\n",
       "   HEI2015C2_GREEN_AND_BEAN  HEI2015C3_TOTALFRUIT  HEI2015C4_WHOLEFRUIT  \\\n",
       "0                       0.0              3.927008              5.000000   \n",
       "1                       0.0              3.731602              4.929186   \n",
       "2                       NaN                   NaN                   NaN   \n",
       "3                       0.0              5.000000              1.320674   \n",
       "4                       0.0              5.000000              5.000000   \n",
       "\n",
       "   HEI2015C5_WHOLEGRAIN  HEI2015C6_TOTALDAIRY  HEI2015C7_TOTPROT  \\\n",
       "0              0.000000              5.000000           4.251329   \n",
       "1              0.527631              3.887809           4.693141   \n",
       "2                   NaN                   NaN                NaN   \n",
       "3              0.000000              3.141062           4.071959   \n",
       "4              5.000000              4.448512           5.000000   \n",
       "\n",
       "   HEI2015C8_SEAPLANT_PROT  HEI2015C9_FATTYACID  HEI2015C10_SODIUM  \\\n",
       "0                 0.000000             2.487572           6.911882   \n",
       "1                 0.928562             3.740758           6.146441   \n",
       "2                      NaN                  NaN                NaN   \n",
       "3                 2.052399             0.684985           2.297100   \n",
       "4                 0.000000             2.050769           7.369489   \n",
       "\n",
       "   HEI2015C11_REFINEDGRAIN  HEI2015C12_SFAT  HEI2015C13_ADDSUG  \\\n",
       "0                10.000000         0.818029           6.408092   \n",
       "1                 7.274979         8.006457           0.000000   \n",
       "2                      NaN              NaN                NaN   \n",
       "3                 9.512964         0.438428           3.919226   \n",
       "4                 8.887880         8.186877           9.099088   \n",
       "\n",
       "   HEI2015_TOTAL_SCORE  \n",
       "0            47.887262  \n",
       "1            45.564326  \n",
       "2                  NaN  \n",
       "3            35.553899  \n",
       "4            63.551696  "
      ]
     },
     "execution_count": 4,
     "metadata": {},
     "output_type": "execute_result"
    }
   ],
   "source": [
    "df2.head()"
   ]
  },
  {
   "cell_type": "markdown",
   "id": "9c70104d",
   "metadata": {},
   "source": [
    "**RENOMEANDO AS COLUNAS PARA MELHOR VISUALIZAÇÃO E ANÁLISE**"
   ]
  },
  {
   "cell_type": "code",
   "execution_count": 5,
   "id": "d5a55ae0",
   "metadata": {},
   "outputs": [],
   "source": [
    "df1.rename(columns={'SEQN':'ID','DPQ010':'Pouco_Interesse','DPQ020':'Deprimido','DPQ030':'Dificuldades_Sono','DPQ040':'Cansado','DPQ050':'Problemas_Alimentação','DPQ060':'Fracasso_DecepçãoFamiliar','DPQ070':'Dificuldades_Concentração','DPQ080':'Lentidão_ou_Agitação','DPQ090':'Ferimento_Morte','RIAGENDR':'Gênero','RIDAGEYR':'Idade','RIDRETH1':'Raça/Etnia','DMDEDUC':'Escolaridade','INDFMINC':'Renda_Familiar'}, inplace=True)"
   ]
  },
  {
   "cell_type": "code",
   "execution_count": 6,
   "id": "5b1c1a1a",
   "metadata": {},
   "outputs": [
    {
     "data": {
      "text/html": [
       "<div>\n",
       "<style scoped>\n",
       "    .dataframe tbody tr th:only-of-type {\n",
       "        vertical-align: middle;\n",
       "    }\n",
       "\n",
       "    .dataframe tbody tr th {\n",
       "        vertical-align: top;\n",
       "    }\n",
       "\n",
       "    .dataframe thead th {\n",
       "        text-align: right;\n",
       "    }\n",
       "</style>\n",
       "<table border=\"1\" class=\"dataframe\">\n",
       "  <thead>\n",
       "    <tr style=\"text-align: right;\">\n",
       "      <th></th>\n",
       "      <th>ID</th>\n",
       "      <th>Pouco_Interesse</th>\n",
       "      <th>Deprimido</th>\n",
       "      <th>Dificuldades_Sono</th>\n",
       "      <th>Cansado</th>\n",
       "      <th>Problemas_Alimentação</th>\n",
       "      <th>Fracasso_DecepçãoFamiliar</th>\n",
       "      <th>Dificuldades_Concentração</th>\n",
       "      <th>Lentidão_ou_Agitação</th>\n",
       "      <th>Ferimento_Morte</th>\n",
       "      <th>Gênero</th>\n",
       "      <th>Idade</th>\n",
       "      <th>Raça/Etnia</th>\n",
       "      <th>Escolaridade</th>\n",
       "      <th>Renda_Familiar</th>\n",
       "    </tr>\n",
       "  </thead>\n",
       "  <tbody>\n",
       "    <tr>\n",
       "      <th>0</th>\n",
       "      <td>31130</td>\n",
       "      <td>NaN</td>\n",
       "      <td>NaN</td>\n",
       "      <td>NaN</td>\n",
       "      <td>NaN</td>\n",
       "      <td>NaN</td>\n",
       "      <td>NaN</td>\n",
       "      <td>NaN</td>\n",
       "      <td>NaN</td>\n",
       "      <td>NaN</td>\n",
       "      <td>2</td>\n",
       "      <td>85</td>\n",
       "      <td>3</td>\n",
       "      <td>4</td>\n",
       "      <td>4.0</td>\n",
       "    </tr>\n",
       "    <tr>\n",
       "      <th>1</th>\n",
       "      <td>31131</td>\n",
       "      <td>0.0</td>\n",
       "      <td>0.0</td>\n",
       "      <td>0.0</td>\n",
       "      <td>0.0</td>\n",
       "      <td>0.0</td>\n",
       "      <td>0.0</td>\n",
       "      <td>0.0</td>\n",
       "      <td>0.0</td>\n",
       "      <td>0.0</td>\n",
       "      <td>2</td>\n",
       "      <td>44</td>\n",
       "      <td>4</td>\n",
       "      <td>4</td>\n",
       "      <td>11.0</td>\n",
       "    </tr>\n",
       "    <tr>\n",
       "      <th>2</th>\n",
       "      <td>31132</td>\n",
       "      <td>0.0</td>\n",
       "      <td>0.0</td>\n",
       "      <td>0.0</td>\n",
       "      <td>0.0</td>\n",
       "      <td>0.0</td>\n",
       "      <td>0.0</td>\n",
       "      <td>0.0</td>\n",
       "      <td>0.0</td>\n",
       "      <td>0.0</td>\n",
       "      <td>1</td>\n",
       "      <td>70</td>\n",
       "      <td>3</td>\n",
       "      <td>5</td>\n",
       "      <td>11.0</td>\n",
       "    </tr>\n",
       "    <tr>\n",
       "      <th>3</th>\n",
       "      <td>31134</td>\n",
       "      <td>0.0</td>\n",
       "      <td>0.0</td>\n",
       "      <td>0.0</td>\n",
       "      <td>0.0</td>\n",
       "      <td>0.0</td>\n",
       "      <td>0.0</td>\n",
       "      <td>0.0</td>\n",
       "      <td>0.0</td>\n",
       "      <td>0.0</td>\n",
       "      <td>1</td>\n",
       "      <td>73</td>\n",
       "      <td>3</td>\n",
       "      <td>3</td>\n",
       "      <td>12.0</td>\n",
       "    </tr>\n",
       "    <tr>\n",
       "      <th>4</th>\n",
       "      <td>31139</td>\n",
       "      <td>0.0</td>\n",
       "      <td>0.0</td>\n",
       "      <td>0.0</td>\n",
       "      <td>0.0</td>\n",
       "      <td>3.0</td>\n",
       "      <td>1.0</td>\n",
       "      <td>0.0</td>\n",
       "      <td>0.0</td>\n",
       "      <td>0.0</td>\n",
       "      <td>2</td>\n",
       "      <td>18</td>\n",
       "      <td>2</td>\n",
       "      <td>3</td>\n",
       "      <td>11.0</td>\n",
       "    </tr>\n",
       "  </tbody>\n",
       "</table>\n",
       "</div>"
      ],
      "text/plain": [
       "      ID  Pouco_Interesse  Deprimido  Dificuldades_Sono  Cansado  \\\n",
       "0  31130              NaN        NaN                NaN      NaN   \n",
       "1  31131              0.0        0.0                0.0      0.0   \n",
       "2  31132              0.0        0.0                0.0      0.0   \n",
       "3  31134              0.0        0.0                0.0      0.0   \n",
       "4  31139              0.0        0.0                0.0      0.0   \n",
       "\n",
       "   Problemas_Alimentação  Fracasso_DecepçãoFamiliar  \\\n",
       "0                    NaN                        NaN   \n",
       "1                    0.0                        0.0   \n",
       "2                    0.0                        0.0   \n",
       "3                    0.0                        0.0   \n",
       "4                    3.0                        1.0   \n",
       "\n",
       "   Dificuldades_Concentração  Lentidão_ou_Agitação  Ferimento_Morte  Gênero  \\\n",
       "0                        NaN                   NaN              NaN       2   \n",
       "1                        0.0                   0.0              0.0       2   \n",
       "2                        0.0                   0.0              0.0       1   \n",
       "3                        0.0                   0.0              0.0       1   \n",
       "4                        0.0                   0.0              0.0       2   \n",
       "\n",
       "   Idade  Raça/Etnia  Escolaridade  Renda_Familiar  \n",
       "0     85           3             4             4.0  \n",
       "1     44           4             4            11.0  \n",
       "2     70           3             5            11.0  \n",
       "3     73           3             3            12.0  \n",
       "4     18           2             3            11.0  "
      ]
     },
     "execution_count": 6,
     "metadata": {},
     "output_type": "execute_result"
    }
   ],
   "source": [
    "df1.head()"
   ]
  },
  {
   "cell_type": "code",
   "execution_count": 7,
   "id": "4a0f22e4",
   "metadata": {},
   "outputs": [],
   "source": [
    "df2.rename(columns={'SEQN':'ID','PAG_MINW':'Tempo_Atividade','ADHERENCE':'Aderencia_PAG','HEI2015C1_TOTALVEG':'Total_Vegetais','HEI2015C2_GREEN_AND_BEAN':'Escuras_Leguminosas','HEI2015C3_TOTALFRUIT':'Frutas_Totais','HEI2015C4_WHOLEFRUIT':'Frutas_natura','HEI2015C5_WHOLEGRAIN':'Graos_integrais','HEI2015C6_TOTALDAIRY':'Laticínios','HEI2015C7_TOTPROT':'Proteínas','HEI2015C8_SEAPLANT_PROT':'Marinhas_Vegetais','HEI2015C9_FATTYACID':'Ácido-graxo','HEI2015C10_SODIUM':'Sódio','HEI2015C11_REFINEDGRAIN':'Graos_refinados','HEI2015C12_SFAT':'Gordura_saturada','HEI2015C13_ADDSUG':'Acucares_adicionados','HEI2015_TOTAL_SCORE':'Score_Total'}, inplace=True)"
   ]
  },
  {
   "cell_type": "code",
   "execution_count": 8,
   "id": "a173105f",
   "metadata": {},
   "outputs": [
    {
     "data": {
      "text/html": [
       "<div>\n",
       "<style scoped>\n",
       "    .dataframe tbody tr th:only-of-type {\n",
       "        vertical-align: middle;\n",
       "    }\n",
       "\n",
       "    .dataframe tbody tr th {\n",
       "        vertical-align: top;\n",
       "    }\n",
       "\n",
       "    .dataframe thead th {\n",
       "        text-align: right;\n",
       "    }\n",
       "</style>\n",
       "<table border=\"1\" class=\"dataframe\">\n",
       "  <thead>\n",
       "    <tr style=\"text-align: right;\">\n",
       "      <th></th>\n",
       "      <th>ID</th>\n",
       "      <th>Tempo_Atividade</th>\n",
       "      <th>Aderencia_PAG</th>\n",
       "      <th>Total_Vegetais</th>\n",
       "      <th>Escuras_Leguminosas</th>\n",
       "      <th>Frutas_Totais</th>\n",
       "      <th>Frutas_natura</th>\n",
       "      <th>Graos_integrais</th>\n",
       "      <th>Laticínios</th>\n",
       "      <th>Proteínas</th>\n",
       "      <th>Marinhas_Vegetais</th>\n",
       "      <th>Ácido-graxo</th>\n",
       "      <th>Sódio</th>\n",
       "      <th>Graos_refinados</th>\n",
       "      <th>Gordura_saturada</th>\n",
       "      <th>Acucares_adicionados</th>\n",
       "      <th>Score_Total</th>\n",
       "    </tr>\n",
       "  </thead>\n",
       "  <tbody>\n",
       "    <tr>\n",
       "      <th>0</th>\n",
       "      <td>31128</td>\n",
       "      <td>NaN</td>\n",
       "      <td>NaN</td>\n",
       "      <td>3.083350</td>\n",
       "      <td>0.0</td>\n",
       "      <td>3.927008</td>\n",
       "      <td>5.000000</td>\n",
       "      <td>0.000000</td>\n",
       "      <td>5.000000</td>\n",
       "      <td>4.251329</td>\n",
       "      <td>0.000000</td>\n",
       "      <td>2.487572</td>\n",
       "      <td>6.911882</td>\n",
       "      <td>10.000000</td>\n",
       "      <td>0.818029</td>\n",
       "      <td>6.408092</td>\n",
       "      <td>47.887262</td>\n",
       "    </tr>\n",
       "    <tr>\n",
       "      <th>1</th>\n",
       "      <td>31129</td>\n",
       "      <td>285.450346</td>\n",
       "      <td>2.0</td>\n",
       "      <td>1.697761</td>\n",
       "      <td>0.0</td>\n",
       "      <td>3.731602</td>\n",
       "      <td>4.929186</td>\n",
       "      <td>0.527631</td>\n",
       "      <td>3.887809</td>\n",
       "      <td>4.693141</td>\n",
       "      <td>0.928562</td>\n",
       "      <td>3.740758</td>\n",
       "      <td>6.146441</td>\n",
       "      <td>7.274979</td>\n",
       "      <td>8.006457</td>\n",
       "      <td>0.000000</td>\n",
       "      <td>45.564326</td>\n",
       "    </tr>\n",
       "    <tr>\n",
       "      <th>2</th>\n",
       "      <td>31130</td>\n",
       "      <td>0.000000</td>\n",
       "      <td>1.0</td>\n",
       "      <td>NaN</td>\n",
       "      <td>NaN</td>\n",
       "      <td>NaN</td>\n",
       "      <td>NaN</td>\n",
       "      <td>NaN</td>\n",
       "      <td>NaN</td>\n",
       "      <td>NaN</td>\n",
       "      <td>NaN</td>\n",
       "      <td>NaN</td>\n",
       "      <td>NaN</td>\n",
       "      <td>NaN</td>\n",
       "      <td>NaN</td>\n",
       "      <td>NaN</td>\n",
       "      <td>NaN</td>\n",
       "    </tr>\n",
       "    <tr>\n",
       "      <th>3</th>\n",
       "      <td>31131</td>\n",
       "      <td>264.711316</td>\n",
       "      <td>2.0</td>\n",
       "      <td>3.115103</td>\n",
       "      <td>0.0</td>\n",
       "      <td>5.000000</td>\n",
       "      <td>1.320674</td>\n",
       "      <td>0.000000</td>\n",
       "      <td>3.141062</td>\n",
       "      <td>4.071959</td>\n",
       "      <td>2.052399</td>\n",
       "      <td>0.684985</td>\n",
       "      <td>2.297100</td>\n",
       "      <td>9.512964</td>\n",
       "      <td>0.438428</td>\n",
       "      <td>3.919226</td>\n",
       "      <td>35.553899</td>\n",
       "    </tr>\n",
       "    <tr>\n",
       "      <th>4</th>\n",
       "      <td>31132</td>\n",
       "      <td>1353.348730</td>\n",
       "      <td>3.0</td>\n",
       "      <td>3.509081</td>\n",
       "      <td>0.0</td>\n",
       "      <td>5.000000</td>\n",
       "      <td>5.000000</td>\n",
       "      <td>5.000000</td>\n",
       "      <td>4.448512</td>\n",
       "      <td>5.000000</td>\n",
       "      <td>0.000000</td>\n",
       "      <td>2.050769</td>\n",
       "      <td>7.369489</td>\n",
       "      <td>8.887880</td>\n",
       "      <td>8.186877</td>\n",
       "      <td>9.099088</td>\n",
       "      <td>63.551696</td>\n",
       "    </tr>\n",
       "  </tbody>\n",
       "</table>\n",
       "</div>"
      ],
      "text/plain": [
       "      ID  Tempo_Atividade  Aderencia_PAG  Total_Vegetais  Escuras_Leguminosas  \\\n",
       "0  31128              NaN            NaN        3.083350                  0.0   \n",
       "1  31129       285.450346            2.0        1.697761                  0.0   \n",
       "2  31130         0.000000            1.0             NaN                  NaN   \n",
       "3  31131       264.711316            2.0        3.115103                  0.0   \n",
       "4  31132      1353.348730            3.0        3.509081                  0.0   \n",
       "\n",
       "   Frutas_Totais  Frutas_natura  Graos_integrais  Laticínios  Proteínas  \\\n",
       "0       3.927008       5.000000         0.000000    5.000000   4.251329   \n",
       "1       3.731602       4.929186         0.527631    3.887809   4.693141   \n",
       "2            NaN            NaN              NaN         NaN        NaN   \n",
       "3       5.000000       1.320674         0.000000    3.141062   4.071959   \n",
       "4       5.000000       5.000000         5.000000    4.448512   5.000000   \n",
       "\n",
       "   Marinhas_Vegetais  Ácido-graxo     Sódio  Graos_refinados  \\\n",
       "0           0.000000     2.487572  6.911882        10.000000   \n",
       "1           0.928562     3.740758  6.146441         7.274979   \n",
       "2                NaN          NaN       NaN              NaN   \n",
       "3           2.052399     0.684985  2.297100         9.512964   \n",
       "4           0.000000     2.050769  7.369489         8.887880   \n",
       "\n",
       "   Gordura_saturada  Acucares_adicionados  Score_Total  \n",
       "0          0.818029              6.408092    47.887262  \n",
       "1          8.006457              0.000000    45.564326  \n",
       "2               NaN                   NaN          NaN  \n",
       "3          0.438428              3.919226    35.553899  \n",
       "4          8.186877              9.099088    63.551696  "
      ]
     },
     "execution_count": 8,
     "metadata": {},
     "output_type": "execute_result"
    }
   ],
   "source": [
    "df2.head()"
   ]
  },
  {
   "cell_type": "markdown",
   "id": "73f6a9df",
   "metadata": {},
   "source": [
    "**VERIFICANDO AS VARIÁVEIS**"
   ]
  },
  {
   "cell_type": "code",
   "execution_count": 9,
   "id": "60c8df92",
   "metadata": {},
   "outputs": [
    {
     "name": "stdout",
     "output_type": "stream",
     "text": [
      "<class 'pandas.core.frame.DataFrame'>\n",
      "RangeIndex: 5334 entries, 0 to 5333\n",
      "Data columns (total 15 columns):\n",
      " #   Column                     Non-Null Count  Dtype  \n",
      "---  ------                     --------------  -----  \n",
      " 0   ID                         5334 non-null   int64  \n",
      " 1   Pouco_Interesse            4836 non-null   float64\n",
      " 2   Deprimido                  4836 non-null   float64\n",
      " 3   Dificuldades_Sono          4836 non-null   float64\n",
      " 4   Cansado                    4836 non-null   float64\n",
      " 5   Problemas_Alimentação      4836 non-null   float64\n",
      " 6   Fracasso_DecepçãoFamiliar  4836 non-null   float64\n",
      " 7   Dificuldades_Concentração  4836 non-null   float64\n",
      " 8   Lentidão_ou_Agitação       4836 non-null   float64\n",
      " 9   Ferimento_Morte            4836 non-null   float64\n",
      " 10  Gênero                     5334 non-null   int64  \n",
      " 11  Idade                      5334 non-null   int64  \n",
      " 12  Raça/Etnia                 5334 non-null   int64  \n",
      " 13  Escolaridade               5334 non-null   int64  \n",
      " 14  Renda_Familiar             5287 non-null   float64\n",
      "dtypes: float64(10), int64(5)\n",
      "memory usage: 625.2 KB\n"
     ]
    }
   ],
   "source": [
    "df1.info()"
   ]
  },
  {
   "cell_type": "code",
   "execution_count": 10,
   "id": "6bc04275",
   "metadata": {},
   "outputs": [
    {
     "name": "stdout",
     "output_type": "stream",
     "text": [
      "<class 'pandas.core.frame.DataFrame'>\n",
      "RangeIndex: 9424 entries, 0 to 9423\n",
      "Data columns (total 17 columns):\n",
      " #   Column                Non-Null Count  Dtype  \n",
      "---  ------                --------------  -----  \n",
      " 0   ID                    9424 non-null   int64  \n",
      " 1   Tempo_Atividade       7150 non-null   float64\n",
      " 2   Aderencia_PAG         7150 non-null   float64\n",
      " 3   Total_Vegetais        8549 non-null   float64\n",
      " 4   Escuras_Leguminosas   8549 non-null   float64\n",
      " 5   Frutas_Totais         8549 non-null   float64\n",
      " 6   Frutas_natura         8549 non-null   float64\n",
      " 7   Graos_integrais       8549 non-null   float64\n",
      " 8   Laticínios            8549 non-null   float64\n",
      " 9   Proteínas             8549 non-null   float64\n",
      " 10  Marinhas_Vegetais     8549 non-null   float64\n",
      " 11  Ácido-graxo           8549 non-null   float64\n",
      " 12  Sódio                 8549 non-null   float64\n",
      " 13  Graos_refinados       8549 non-null   float64\n",
      " 14  Gordura_saturada      8549 non-null   float64\n",
      " 15  Acucares_adicionados  8549 non-null   float64\n",
      " 16  Score_Total           8549 non-null   float64\n",
      "dtypes: float64(16), int64(1)\n",
      "memory usage: 1.2 MB\n"
     ]
    }
   ],
   "source": [
    "df2.info()"
   ]
  },
  {
   "cell_type": "code",
   "execution_count": 11,
   "id": "437343e7",
   "metadata": {},
   "outputs": [
    {
     "data": {
      "text/html": [
       "<div>\n",
       "<style scoped>\n",
       "    .dataframe tbody tr th:only-of-type {\n",
       "        vertical-align: middle;\n",
       "    }\n",
       "\n",
       "    .dataframe tbody tr th {\n",
       "        vertical-align: top;\n",
       "    }\n",
       "\n",
       "    .dataframe thead th {\n",
       "        text-align: right;\n",
       "    }\n",
       "</style>\n",
       "<table border=\"1\" class=\"dataframe\">\n",
       "  <thead>\n",
       "    <tr style=\"text-align: right;\">\n",
       "      <th></th>\n",
       "      <th>ID</th>\n",
       "      <th>Pouco_Interesse</th>\n",
       "      <th>Deprimido</th>\n",
       "      <th>Dificuldades_Sono</th>\n",
       "      <th>Cansado</th>\n",
       "      <th>Problemas_Alimentação</th>\n",
       "      <th>Fracasso_DecepçãoFamiliar</th>\n",
       "      <th>Dificuldades_Concentração</th>\n",
       "      <th>Lentidão_ou_Agitação</th>\n",
       "      <th>Ferimento_Morte</th>\n",
       "      <th>Gênero</th>\n",
       "      <th>Idade</th>\n",
       "      <th>Raça/Etnia</th>\n",
       "      <th>Escolaridade</th>\n",
       "      <th>Renda_Familiar</th>\n",
       "    </tr>\n",
       "  </thead>\n",
       "  <tbody>\n",
       "    <tr>\n",
       "      <th>count</th>\n",
       "      <td>5334.000000</td>\n",
       "      <td>4836.000000</td>\n",
       "      <td>4836.000000</td>\n",
       "      <td>4836.000000</td>\n",
       "      <td>4836.000000</td>\n",
       "      <td>4836.000000</td>\n",
       "      <td>4836.000000</td>\n",
       "      <td>4836.000000</td>\n",
       "      <td>4836.000000</td>\n",
       "      <td>4836.000000</td>\n",
       "      <td>5334.000000</td>\n",
       "      <td>5334.000000</td>\n",
       "      <td>5334.000000</td>\n",
       "      <td>5334.000000</td>\n",
       "      <td>5287.000000</td>\n",
       "    </tr>\n",
       "    <tr>\n",
       "      <th>mean</th>\n",
       "      <td>36358.796775</td>\n",
       "      <td>0.307279</td>\n",
       "      <td>0.313069</td>\n",
       "      <td>0.551282</td>\n",
       "      <td>0.717328</td>\n",
       "      <td>0.320720</td>\n",
       "      <td>0.209884</td>\n",
       "      <td>0.230356</td>\n",
       "      <td>0.147849</td>\n",
       "      <td>0.050248</td>\n",
       "      <td>1.519873</td>\n",
       "      <td>45.089989</td>\n",
       "      <td>2.871016</td>\n",
       "      <td>3.233221</td>\n",
       "      <td>8.738604</td>\n",
       "    </tr>\n",
       "    <tr>\n",
       "      <th>std</th>\n",
       "      <td>2964.731827</td>\n",
       "      <td>0.758459</td>\n",
       "      <td>0.710683</td>\n",
       "      <td>0.931166</td>\n",
       "      <td>0.913711</td>\n",
       "      <td>0.743057</td>\n",
       "      <td>0.624552</td>\n",
       "      <td>0.639186</td>\n",
       "      <td>0.590390</td>\n",
       "      <td>0.326933</td>\n",
       "      <td>0.499652</td>\n",
       "      <td>20.145853</td>\n",
       "      <td>1.128468</td>\n",
       "      <td>1.268395</td>\n",
       "      <td>12.777756</td>\n",
       "    </tr>\n",
       "    <tr>\n",
       "      <th>min</th>\n",
       "      <td>31130.000000</td>\n",
       "      <td>0.000000</td>\n",
       "      <td>0.000000</td>\n",
       "      <td>0.000000</td>\n",
       "      <td>0.000000</td>\n",
       "      <td>0.000000</td>\n",
       "      <td>0.000000</td>\n",
       "      <td>0.000000</td>\n",
       "      <td>0.000000</td>\n",
       "      <td>0.000000</td>\n",
       "      <td>1.000000</td>\n",
       "      <td>18.000000</td>\n",
       "      <td>1.000000</td>\n",
       "      <td>1.000000</td>\n",
       "      <td>1.000000</td>\n",
       "    </tr>\n",
       "    <tr>\n",
       "      <th>25%</th>\n",
       "      <td>33838.500000</td>\n",
       "      <td>0.000000</td>\n",
       "      <td>0.000000</td>\n",
       "      <td>0.000000</td>\n",
       "      <td>0.000000</td>\n",
       "      <td>0.000000</td>\n",
       "      <td>0.000000</td>\n",
       "      <td>0.000000</td>\n",
       "      <td>0.000000</td>\n",
       "      <td>0.000000</td>\n",
       "      <td>1.000000</td>\n",
       "      <td>27.000000</td>\n",
       "      <td>3.000000</td>\n",
       "      <td>2.000000</td>\n",
       "      <td>4.000000</td>\n",
       "    </tr>\n",
       "    <tr>\n",
       "      <th>50%</th>\n",
       "      <td>36347.500000</td>\n",
       "      <td>0.000000</td>\n",
       "      <td>0.000000</td>\n",
       "      <td>0.000000</td>\n",
       "      <td>0.000000</td>\n",
       "      <td>0.000000</td>\n",
       "      <td>0.000000</td>\n",
       "      <td>0.000000</td>\n",
       "      <td>0.000000</td>\n",
       "      <td>0.000000</td>\n",
       "      <td>2.000000</td>\n",
       "      <td>43.000000</td>\n",
       "      <td>3.000000</td>\n",
       "      <td>3.000000</td>\n",
       "      <td>7.000000</td>\n",
       "    </tr>\n",
       "    <tr>\n",
       "      <th>75%</th>\n",
       "      <td>38915.750000</td>\n",
       "      <td>0.000000</td>\n",
       "      <td>0.000000</td>\n",
       "      <td>1.000000</td>\n",
       "      <td>1.000000</td>\n",
       "      <td>0.000000</td>\n",
       "      <td>0.000000</td>\n",
       "      <td>0.000000</td>\n",
       "      <td>0.000000</td>\n",
       "      <td>0.000000</td>\n",
       "      <td>2.000000</td>\n",
       "      <td>62.000000</td>\n",
       "      <td>4.000000</td>\n",
       "      <td>4.000000</td>\n",
       "      <td>10.000000</td>\n",
       "    </tr>\n",
       "    <tr>\n",
       "      <th>max</th>\n",
       "      <td>41473.000000</td>\n",
       "      <td>9.000000</td>\n",
       "      <td>9.000000</td>\n",
       "      <td>9.000000</td>\n",
       "      <td>9.000000</td>\n",
       "      <td>9.000000</td>\n",
       "      <td>9.000000</td>\n",
       "      <td>9.000000</td>\n",
       "      <td>9.000000</td>\n",
       "      <td>9.000000</td>\n",
       "      <td>2.000000</td>\n",
       "      <td>85.000000</td>\n",
       "      <td>5.000000</td>\n",
       "      <td>9.000000</td>\n",
       "      <td>99.000000</td>\n",
       "    </tr>\n",
       "  </tbody>\n",
       "</table>\n",
       "</div>"
      ],
      "text/plain": [
       "                 ID  Pouco_Interesse    Deprimido  Dificuldades_Sono  \\\n",
       "count   5334.000000      4836.000000  4836.000000        4836.000000   \n",
       "mean   36358.796775         0.307279     0.313069           0.551282   \n",
       "std     2964.731827         0.758459     0.710683           0.931166   \n",
       "min    31130.000000         0.000000     0.000000           0.000000   \n",
       "25%    33838.500000         0.000000     0.000000           0.000000   \n",
       "50%    36347.500000         0.000000     0.000000           0.000000   \n",
       "75%    38915.750000         0.000000     0.000000           1.000000   \n",
       "max    41473.000000         9.000000     9.000000           9.000000   \n",
       "\n",
       "           Cansado  Problemas_Alimentação  Fracasso_DecepçãoFamiliar  \\\n",
       "count  4836.000000            4836.000000                4836.000000   \n",
       "mean      0.717328               0.320720                   0.209884   \n",
       "std       0.913711               0.743057                   0.624552   \n",
       "min       0.000000               0.000000                   0.000000   \n",
       "25%       0.000000               0.000000                   0.000000   \n",
       "50%       0.000000               0.000000                   0.000000   \n",
       "75%       1.000000               0.000000                   0.000000   \n",
       "max       9.000000               9.000000                   9.000000   \n",
       "\n",
       "       Dificuldades_Concentração  Lentidão_ou_Agitação  Ferimento_Morte  \\\n",
       "count                4836.000000           4836.000000      4836.000000   \n",
       "mean                    0.230356              0.147849         0.050248   \n",
       "std                     0.639186              0.590390         0.326933   \n",
       "min                     0.000000              0.000000         0.000000   \n",
       "25%                     0.000000              0.000000         0.000000   \n",
       "50%                     0.000000              0.000000         0.000000   \n",
       "75%                     0.000000              0.000000         0.000000   \n",
       "max                     9.000000              9.000000         9.000000   \n",
       "\n",
       "            Gênero        Idade   Raça/Etnia  Escolaridade  Renda_Familiar  \n",
       "count  5334.000000  5334.000000  5334.000000   5334.000000     5287.000000  \n",
       "mean      1.519873    45.089989     2.871016      3.233221        8.738604  \n",
       "std       0.499652    20.145853     1.128468      1.268395       12.777756  \n",
       "min       1.000000    18.000000     1.000000      1.000000        1.000000  \n",
       "25%       1.000000    27.000000     3.000000      2.000000        4.000000  \n",
       "50%       2.000000    43.000000     3.000000      3.000000        7.000000  \n",
       "75%       2.000000    62.000000     4.000000      4.000000       10.000000  \n",
       "max       2.000000    85.000000     5.000000      9.000000       99.000000  "
      ]
     },
     "execution_count": 11,
     "metadata": {},
     "output_type": "execute_result"
    }
   ],
   "source": [
    "df1.describe()"
   ]
  },
  {
   "cell_type": "code",
   "execution_count": 12,
   "id": "4d381d8b",
   "metadata": {},
   "outputs": [
    {
     "data": {
      "text/html": [
       "<div>\n",
       "<style scoped>\n",
       "    .dataframe tbody tr th:only-of-type {\n",
       "        vertical-align: middle;\n",
       "    }\n",
       "\n",
       "    .dataframe tbody tr th {\n",
       "        vertical-align: top;\n",
       "    }\n",
       "\n",
       "    .dataframe thead th {\n",
       "        text-align: right;\n",
       "    }\n",
       "</style>\n",
       "<table border=\"1\" class=\"dataframe\">\n",
       "  <thead>\n",
       "    <tr style=\"text-align: right;\">\n",
       "      <th></th>\n",
       "      <th>ID</th>\n",
       "      <th>Tempo_Atividade</th>\n",
       "      <th>Aderencia_PAG</th>\n",
       "      <th>Total_Vegetais</th>\n",
       "      <th>Escuras_Leguminosas</th>\n",
       "      <th>Frutas_Totais</th>\n",
       "      <th>Frutas_natura</th>\n",
       "      <th>Graos_integrais</th>\n",
       "      <th>Laticínios</th>\n",
       "      <th>Proteínas</th>\n",
       "      <th>Marinhas_Vegetais</th>\n",
       "      <th>Ácido-graxo</th>\n",
       "      <th>Sódio</th>\n",
       "      <th>Graos_refinados</th>\n",
       "      <th>Gordura_saturada</th>\n",
       "      <th>Acucares_adicionados</th>\n",
       "      <th>Score_Total</th>\n",
       "    </tr>\n",
       "  </thead>\n",
       "  <tbody>\n",
       "    <tr>\n",
       "      <th>count</th>\n",
       "      <td>9424.000000</td>\n",
       "      <td>7150.000000</td>\n",
       "      <td>7150.000000</td>\n",
       "      <td>8549.000000</td>\n",
       "      <td>8549.000000</td>\n",
       "      <td>8549.000000</td>\n",
       "      <td>8549.000000</td>\n",
       "      <td>8549.000000</td>\n",
       "      <td>8549.000000</td>\n",
       "      <td>8549.000000</td>\n",
       "      <td>8549.000000</td>\n",
       "      <td>8549.000000</td>\n",
       "      <td>8549.000000</td>\n",
       "      <td>8549.000000</td>\n",
       "      <td>8549.000000</td>\n",
       "      <td>8549.000000</td>\n",
       "      <td>8549.000000</td>\n",
       "    </tr>\n",
       "    <tr>\n",
       "      <th>mean</th>\n",
       "      <td>36311.463285</td>\n",
       "      <td>565.120067</td>\n",
       "      <td>2.074685</td>\n",
       "      <td>2.862097</td>\n",
       "      <td>1.547884</td>\n",
       "      <td>2.659902</td>\n",
       "      <td>2.405864</td>\n",
       "      <td>1.674949</td>\n",
       "      <td>4.054757</td>\n",
       "      <td>4.211867</td>\n",
       "      <td>2.325303</td>\n",
       "      <td>4.205320</td>\n",
       "      <td>4.988956</td>\n",
       "      <td>5.540906</td>\n",
       "      <td>5.781459</td>\n",
       "      <td>5.959600</td>\n",
       "      <td>48.218865</td>\n",
       "    </tr>\n",
       "    <tr>\n",
       "      <th>std</th>\n",
       "      <td>2991.517794</td>\n",
       "      <td>908.839544</td>\n",
       "      <td>0.917351</td>\n",
       "      <td>1.472391</td>\n",
       "      <td>2.046650</td>\n",
       "      <td>1.930251</td>\n",
       "      <td>2.152560</td>\n",
       "      <td>1.823515</td>\n",
       "      <td>1.478922</td>\n",
       "      <td>1.157194</td>\n",
       "      <td>2.132526</td>\n",
       "      <td>3.147736</td>\n",
       "      <td>3.293786</td>\n",
       "      <td>3.452289</td>\n",
       "      <td>3.090926</td>\n",
       "      <td>3.215960</td>\n",
       "      <td>11.884725</td>\n",
       "    </tr>\n",
       "    <tr>\n",
       "      <th>min</th>\n",
       "      <td>31128.000000</td>\n",
       "      <td>0.000000</td>\n",
       "      <td>1.000000</td>\n",
       "      <td>0.000000</td>\n",
       "      <td>0.000000</td>\n",
       "      <td>0.000000</td>\n",
       "      <td>0.000000</td>\n",
       "      <td>0.000000</td>\n",
       "      <td>0.000000</td>\n",
       "      <td>0.000000</td>\n",
       "      <td>0.000000</td>\n",
       "      <td>0.000000</td>\n",
       "      <td>0.000000</td>\n",
       "      <td>0.000000</td>\n",
       "      <td>0.000000</td>\n",
       "      <td>0.000000</td>\n",
       "      <td>13.243513</td>\n",
       "    </tr>\n",
       "    <tr>\n",
       "      <th>25%</th>\n",
       "      <td>33720.750000</td>\n",
       "      <td>55.427252</td>\n",
       "      <td>1.000000</td>\n",
       "      <td>1.692308</td>\n",
       "      <td>0.000000</td>\n",
       "      <td>0.725494</td>\n",
       "      <td>0.000000</td>\n",
       "      <td>0.000000</td>\n",
       "      <td>3.336989</td>\n",
       "      <td>3.587339</td>\n",
       "      <td>0.000000</td>\n",
       "      <td>1.544438</td>\n",
       "      <td>2.258630</td>\n",
       "      <td>2.652670</td>\n",
       "      <td>3.514716</td>\n",
       "      <td>3.599885</td>\n",
       "      <td>39.643349</td>\n",
       "    </tr>\n",
       "    <tr>\n",
       "      <th>50%</th>\n",
       "      <td>36307.500000</td>\n",
       "      <td>256.351039</td>\n",
       "      <td>2.000000</td>\n",
       "      <td>2.753825</td>\n",
       "      <td>0.000000</td>\n",
       "      <td>2.618554</td>\n",
       "      <td>2.179715</td>\n",
       "      <td>1.018207</td>\n",
       "      <td>5.000000</td>\n",
       "      <td>5.000000</td>\n",
       "      <td>1.836220</td>\n",
       "      <td>3.789177</td>\n",
       "      <td>5.144181</td>\n",
       "      <td>5.880968</td>\n",
       "      <td>5.979335</td>\n",
       "      <td>6.327416</td>\n",
       "      <td>47.589498</td>\n",
       "    </tr>\n",
       "    <tr>\n",
       "      <th>75%</th>\n",
       "      <td>38902.250000</td>\n",
       "      <td>696.016166</td>\n",
       "      <td>3.000000</td>\n",
       "      <td>4.165605</td>\n",
       "      <td>3.498013</td>\n",
       "      <td>5.000000</td>\n",
       "      <td>5.000000</td>\n",
       "      <td>2.997076</td>\n",
       "      <td>5.000000</td>\n",
       "      <td>5.000000</td>\n",
       "      <td>5.000000</td>\n",
       "      <td>6.464805</td>\n",
       "      <td>7.705660</td>\n",
       "      <td>8.756728</td>\n",
       "      <td>8.390884</td>\n",
       "      <td>8.859520</td>\n",
       "      <td>56.028859</td>\n",
       "    </tr>\n",
       "    <tr>\n",
       "      <th>max</th>\n",
       "      <td>41474.000000</td>\n",
       "      <td>13801.385681</td>\n",
       "      <td>3.000000</td>\n",
       "      <td>5.000000</td>\n",
       "      <td>5.000000</td>\n",
       "      <td>5.000000</td>\n",
       "      <td>5.000000</td>\n",
       "      <td>5.000000</td>\n",
       "      <td>5.000000</td>\n",
       "      <td>5.000000</td>\n",
       "      <td>5.000000</td>\n",
       "      <td>10.000000</td>\n",
       "      <td>10.000000</td>\n",
       "      <td>10.000000</td>\n",
       "      <td>10.000000</td>\n",
       "      <td>10.000000</td>\n",
       "      <td>89.529383</td>\n",
       "    </tr>\n",
       "  </tbody>\n",
       "</table>\n",
       "</div>"
      ],
      "text/plain": [
       "                 ID  Tempo_Atividade  Aderencia_PAG  Total_Vegetais  \\\n",
       "count   9424.000000      7150.000000    7150.000000     8549.000000   \n",
       "mean   36311.463285       565.120067       2.074685        2.862097   \n",
       "std     2991.517794       908.839544       0.917351        1.472391   \n",
       "min    31128.000000         0.000000       1.000000        0.000000   \n",
       "25%    33720.750000        55.427252       1.000000        1.692308   \n",
       "50%    36307.500000       256.351039       2.000000        2.753825   \n",
       "75%    38902.250000       696.016166       3.000000        4.165605   \n",
       "max    41474.000000     13801.385681       3.000000        5.000000   \n",
       "\n",
       "       Escuras_Leguminosas  Frutas_Totais  Frutas_natura  Graos_integrais  \\\n",
       "count          8549.000000    8549.000000    8549.000000      8549.000000   \n",
       "mean              1.547884       2.659902       2.405864         1.674949   \n",
       "std               2.046650       1.930251       2.152560         1.823515   \n",
       "min               0.000000       0.000000       0.000000         0.000000   \n",
       "25%               0.000000       0.725494       0.000000         0.000000   \n",
       "50%               0.000000       2.618554       2.179715         1.018207   \n",
       "75%               3.498013       5.000000       5.000000         2.997076   \n",
       "max               5.000000       5.000000       5.000000         5.000000   \n",
       "\n",
       "        Laticínios    Proteínas  Marinhas_Vegetais  Ácido-graxo        Sódio  \\\n",
       "count  8549.000000  8549.000000        8549.000000  8549.000000  8549.000000   \n",
       "mean      4.054757     4.211867           2.325303     4.205320     4.988956   \n",
       "std       1.478922     1.157194           2.132526     3.147736     3.293786   \n",
       "min       0.000000     0.000000           0.000000     0.000000     0.000000   \n",
       "25%       3.336989     3.587339           0.000000     1.544438     2.258630   \n",
       "50%       5.000000     5.000000           1.836220     3.789177     5.144181   \n",
       "75%       5.000000     5.000000           5.000000     6.464805     7.705660   \n",
       "max       5.000000     5.000000           5.000000    10.000000    10.000000   \n",
       "\n",
       "       Graos_refinados  Gordura_saturada  Acucares_adicionados  Score_Total  \n",
       "count      8549.000000       8549.000000           8549.000000  8549.000000  \n",
       "mean          5.540906          5.781459              5.959600    48.218865  \n",
       "std           3.452289          3.090926              3.215960    11.884725  \n",
       "min           0.000000          0.000000              0.000000    13.243513  \n",
       "25%           2.652670          3.514716              3.599885    39.643349  \n",
       "50%           5.880968          5.979335              6.327416    47.589498  \n",
       "75%           8.756728          8.390884              8.859520    56.028859  \n",
       "max          10.000000         10.000000             10.000000    89.529383  "
      ]
     },
     "execution_count": 12,
     "metadata": {},
     "output_type": "execute_result"
    }
   ],
   "source": [
    "df2.describe()"
   ]
  },
  {
   "cell_type": "markdown",
   "id": "4d32eb62",
   "metadata": {},
   "source": [
    "<b> JUNTANDO OS DATAFRAMES, ATRAVÉS DO ID. <b>"
   ]
  },
  {
   "cell_type": "code",
   "execution_count": 13,
   "id": "30873f91",
   "metadata": {},
   "outputs": [],
   "source": [
    "df3 = df1.set_index('ID').join(df2.set_index('ID'), how='inner')"
   ]
  },
  {
   "cell_type": "code",
   "execution_count": 14,
   "id": "f64e2c74",
   "metadata": {},
   "outputs": [
    {
     "data": {
      "text/html": [
       "<div>\n",
       "<style scoped>\n",
       "    .dataframe tbody tr th:only-of-type {\n",
       "        vertical-align: middle;\n",
       "    }\n",
       "\n",
       "    .dataframe tbody tr th {\n",
       "        vertical-align: top;\n",
       "    }\n",
       "\n",
       "    .dataframe thead th {\n",
       "        text-align: right;\n",
       "    }\n",
       "</style>\n",
       "<table border=\"1\" class=\"dataframe\">\n",
       "  <thead>\n",
       "    <tr style=\"text-align: right;\">\n",
       "      <th></th>\n",
       "      <th>Pouco_Interesse</th>\n",
       "      <th>Deprimido</th>\n",
       "      <th>Dificuldades_Sono</th>\n",
       "      <th>Cansado</th>\n",
       "      <th>Problemas_Alimentação</th>\n",
       "      <th>Fracasso_DecepçãoFamiliar</th>\n",
       "      <th>Dificuldades_Concentração</th>\n",
       "      <th>Lentidão_ou_Agitação</th>\n",
       "      <th>Ferimento_Morte</th>\n",
       "      <th>Gênero</th>\n",
       "      <th>...</th>\n",
       "      <th>Graos_integrais</th>\n",
       "      <th>Laticínios</th>\n",
       "      <th>Proteínas</th>\n",
       "      <th>Marinhas_Vegetais</th>\n",
       "      <th>Ácido-graxo</th>\n",
       "      <th>Sódio</th>\n",
       "      <th>Graos_refinados</th>\n",
       "      <th>Gordura_saturada</th>\n",
       "      <th>Acucares_adicionados</th>\n",
       "      <th>Score_Total</th>\n",
       "    </tr>\n",
       "    <tr>\n",
       "      <th>ID</th>\n",
       "      <th></th>\n",
       "      <th></th>\n",
       "      <th></th>\n",
       "      <th></th>\n",
       "      <th></th>\n",
       "      <th></th>\n",
       "      <th></th>\n",
       "      <th></th>\n",
       "      <th></th>\n",
       "      <th></th>\n",
       "      <th></th>\n",
       "      <th></th>\n",
       "      <th></th>\n",
       "      <th></th>\n",
       "      <th></th>\n",
       "      <th></th>\n",
       "      <th></th>\n",
       "      <th></th>\n",
       "      <th></th>\n",
       "      <th></th>\n",
       "      <th></th>\n",
       "    </tr>\n",
       "  </thead>\n",
       "  <tbody>\n",
       "    <tr>\n",
       "      <th>31130</th>\n",
       "      <td>NaN</td>\n",
       "      <td>NaN</td>\n",
       "      <td>NaN</td>\n",
       "      <td>NaN</td>\n",
       "      <td>NaN</td>\n",
       "      <td>NaN</td>\n",
       "      <td>NaN</td>\n",
       "      <td>NaN</td>\n",
       "      <td>NaN</td>\n",
       "      <td>2</td>\n",
       "      <td>...</td>\n",
       "      <td>NaN</td>\n",
       "      <td>NaN</td>\n",
       "      <td>NaN</td>\n",
       "      <td>NaN</td>\n",
       "      <td>NaN</td>\n",
       "      <td>NaN</td>\n",
       "      <td>NaN</td>\n",
       "      <td>NaN</td>\n",
       "      <td>NaN</td>\n",
       "      <td>NaN</td>\n",
       "    </tr>\n",
       "    <tr>\n",
       "      <th>31131</th>\n",
       "      <td>0.0</td>\n",
       "      <td>0.0</td>\n",
       "      <td>0.0</td>\n",
       "      <td>0.0</td>\n",
       "      <td>0.0</td>\n",
       "      <td>0.0</td>\n",
       "      <td>0.0</td>\n",
       "      <td>0.0</td>\n",
       "      <td>0.0</td>\n",
       "      <td>2</td>\n",
       "      <td>...</td>\n",
       "      <td>0.000000</td>\n",
       "      <td>3.141062</td>\n",
       "      <td>4.071959</td>\n",
       "      <td>2.052399</td>\n",
       "      <td>0.684985</td>\n",
       "      <td>2.297100</td>\n",
       "      <td>9.512964</td>\n",
       "      <td>0.438428</td>\n",
       "      <td>3.919226</td>\n",
       "      <td>35.553899</td>\n",
       "    </tr>\n",
       "    <tr>\n",
       "      <th>31132</th>\n",
       "      <td>0.0</td>\n",
       "      <td>0.0</td>\n",
       "      <td>0.0</td>\n",
       "      <td>0.0</td>\n",
       "      <td>0.0</td>\n",
       "      <td>0.0</td>\n",
       "      <td>0.0</td>\n",
       "      <td>0.0</td>\n",
       "      <td>0.0</td>\n",
       "      <td>1</td>\n",
       "      <td>...</td>\n",
       "      <td>5.000000</td>\n",
       "      <td>4.448512</td>\n",
       "      <td>5.000000</td>\n",
       "      <td>0.000000</td>\n",
       "      <td>2.050769</td>\n",
       "      <td>7.369489</td>\n",
       "      <td>8.887880</td>\n",
       "      <td>8.186877</td>\n",
       "      <td>9.099088</td>\n",
       "      <td>63.551696</td>\n",
       "    </tr>\n",
       "    <tr>\n",
       "      <th>31134</th>\n",
       "      <td>0.0</td>\n",
       "      <td>0.0</td>\n",
       "      <td>0.0</td>\n",
       "      <td>0.0</td>\n",
       "      <td>0.0</td>\n",
       "      <td>0.0</td>\n",
       "      <td>0.0</td>\n",
       "      <td>0.0</td>\n",
       "      <td>0.0</td>\n",
       "      <td>1</td>\n",
       "      <td>...</td>\n",
       "      <td>2.217331</td>\n",
       "      <td>2.313900</td>\n",
       "      <td>5.000000</td>\n",
       "      <td>1.268648</td>\n",
       "      <td>2.958985</td>\n",
       "      <td>0.000000</td>\n",
       "      <td>5.627488</td>\n",
       "      <td>5.863078</td>\n",
       "      <td>5.878686</td>\n",
       "      <td>42.886826</td>\n",
       "    </tr>\n",
       "    <tr>\n",
       "      <th>31139</th>\n",
       "      <td>0.0</td>\n",
       "      <td>0.0</td>\n",
       "      <td>0.0</td>\n",
       "      <td>0.0</td>\n",
       "      <td>3.0</td>\n",
       "      <td>1.0</td>\n",
       "      <td>0.0</td>\n",
       "      <td>0.0</td>\n",
       "      <td>0.0</td>\n",
       "      <td>2</td>\n",
       "      <td>...</td>\n",
       "      <td>0.211544</td>\n",
       "      <td>0.000000</td>\n",
       "      <td>4.088849</td>\n",
       "      <td>4.221442</td>\n",
       "      <td>10.000000</td>\n",
       "      <td>2.845774</td>\n",
       "      <td>0.000000</td>\n",
       "      <td>10.000000</td>\n",
       "      <td>9.658507</td>\n",
       "      <td>47.074393</td>\n",
       "    </tr>\n",
       "    <tr>\n",
       "      <th>...</th>\n",
       "      <td>...</td>\n",
       "      <td>...</td>\n",
       "      <td>...</td>\n",
       "      <td>...</td>\n",
       "      <td>...</td>\n",
       "      <td>...</td>\n",
       "      <td>...</td>\n",
       "      <td>...</td>\n",
       "      <td>...</td>\n",
       "      <td>...</td>\n",
       "      <td>...</td>\n",
       "      <td>...</td>\n",
       "      <td>...</td>\n",
       "      <td>...</td>\n",
       "      <td>...</td>\n",
       "      <td>...</td>\n",
       "      <td>...</td>\n",
       "      <td>...</td>\n",
       "      <td>...</td>\n",
       "      <td>...</td>\n",
       "      <td>...</td>\n",
       "    </tr>\n",
       "    <tr>\n",
       "      <th>41466</th>\n",
       "      <td>0.0</td>\n",
       "      <td>0.0</td>\n",
       "      <td>1.0</td>\n",
       "      <td>1.0</td>\n",
       "      <td>0.0</td>\n",
       "      <td>0.0</td>\n",
       "      <td>0.0</td>\n",
       "      <td>0.0</td>\n",
       "      <td>0.0</td>\n",
       "      <td>2</td>\n",
       "      <td>...</td>\n",
       "      <td>4.607930</td>\n",
       "      <td>2.555736</td>\n",
       "      <td>5.000000</td>\n",
       "      <td>4.672204</td>\n",
       "      <td>4.633477</td>\n",
       "      <td>0.000000</td>\n",
       "      <td>6.580006</td>\n",
       "      <td>8.393244</td>\n",
       "      <td>9.360990</td>\n",
       "      <td>59.949915</td>\n",
       "    </tr>\n",
       "    <tr>\n",
       "      <th>41468</th>\n",
       "      <td>0.0</td>\n",
       "      <td>2.0</td>\n",
       "      <td>0.0</td>\n",
       "      <td>1.0</td>\n",
       "      <td>1.0</td>\n",
       "      <td>2.0</td>\n",
       "      <td>1.0</td>\n",
       "      <td>3.0</td>\n",
       "      <td>0.0</td>\n",
       "      <td>2</td>\n",
       "      <td>...</td>\n",
       "      <td>3.041603</td>\n",
       "      <td>5.000000</td>\n",
       "      <td>3.759596</td>\n",
       "      <td>2.344264</td>\n",
       "      <td>4.780282</td>\n",
       "      <td>3.134216</td>\n",
       "      <td>1.986137</td>\n",
       "      <td>5.850269</td>\n",
       "      <td>10.000000</td>\n",
       "      <td>57.747869</td>\n",
       "    </tr>\n",
       "    <tr>\n",
       "      <th>41469</th>\n",
       "      <td>1.0</td>\n",
       "      <td>0.0</td>\n",
       "      <td>0.0</td>\n",
       "      <td>1.0</td>\n",
       "      <td>0.0</td>\n",
       "      <td>0.0</td>\n",
       "      <td>0.0</td>\n",
       "      <td>0.0</td>\n",
       "      <td>0.0</td>\n",
       "      <td>1</td>\n",
       "      <td>...</td>\n",
       "      <td>0.000000</td>\n",
       "      <td>2.151846</td>\n",
       "      <td>5.000000</td>\n",
       "      <td>0.000000</td>\n",
       "      <td>9.344947</td>\n",
       "      <td>3.535211</td>\n",
       "      <td>4.326307</td>\n",
       "      <td>5.269780</td>\n",
       "      <td>8.195564</td>\n",
       "      <td>42.993323</td>\n",
       "    </tr>\n",
       "    <tr>\n",
       "      <th>41472</th>\n",
       "      <td>0.0</td>\n",
       "      <td>0.0</td>\n",
       "      <td>0.0</td>\n",
       "      <td>0.0</td>\n",
       "      <td>0.0</td>\n",
       "      <td>0.0</td>\n",
       "      <td>0.0</td>\n",
       "      <td>0.0</td>\n",
       "      <td>0.0</td>\n",
       "      <td>1</td>\n",
       "      <td>...</td>\n",
       "      <td>0.933303</td>\n",
       "      <td>5.000000</td>\n",
       "      <td>5.000000</td>\n",
       "      <td>5.000000</td>\n",
       "      <td>2.090534</td>\n",
       "      <td>8.409844</td>\n",
       "      <td>8.936854</td>\n",
       "      <td>3.063795</td>\n",
       "      <td>0.000000</td>\n",
       "      <td>46.134467</td>\n",
       "    </tr>\n",
       "    <tr>\n",
       "      <th>41473</th>\n",
       "      <td>0.0</td>\n",
       "      <td>0.0</td>\n",
       "      <td>2.0</td>\n",
       "      <td>1.0</td>\n",
       "      <td>0.0</td>\n",
       "      <td>1.0</td>\n",
       "      <td>0.0</td>\n",
       "      <td>0.0</td>\n",
       "      <td>0.0</td>\n",
       "      <td>1</td>\n",
       "      <td>...</td>\n",
       "      <td>0.000000</td>\n",
       "      <td>5.000000</td>\n",
       "      <td>5.000000</td>\n",
       "      <td>5.000000</td>\n",
       "      <td>0.000000</td>\n",
       "      <td>7.458058</td>\n",
       "      <td>10.000000</td>\n",
       "      <td>1.676912</td>\n",
       "      <td>2.751168</td>\n",
       "      <td>45.793478</td>\n",
       "    </tr>\n",
       "  </tbody>\n",
       "</table>\n",
       "<p>5334 rows × 30 columns</p>\n",
       "</div>"
      ],
      "text/plain": [
       "       Pouco_Interesse  Deprimido  Dificuldades_Sono  Cansado  \\\n",
       "ID                                                              \n",
       "31130              NaN        NaN                NaN      NaN   \n",
       "31131              0.0        0.0                0.0      0.0   \n",
       "31132              0.0        0.0                0.0      0.0   \n",
       "31134              0.0        0.0                0.0      0.0   \n",
       "31139              0.0        0.0                0.0      0.0   \n",
       "...                ...        ...                ...      ...   \n",
       "41466              0.0        0.0                1.0      1.0   \n",
       "41468              0.0        2.0                0.0      1.0   \n",
       "41469              1.0        0.0                0.0      1.0   \n",
       "41472              0.0        0.0                0.0      0.0   \n",
       "41473              0.0        0.0                2.0      1.0   \n",
       "\n",
       "       Problemas_Alimentação  Fracasso_DecepçãoFamiliar  \\\n",
       "ID                                                        \n",
       "31130                    NaN                        NaN   \n",
       "31131                    0.0                        0.0   \n",
       "31132                    0.0                        0.0   \n",
       "31134                    0.0                        0.0   \n",
       "31139                    3.0                        1.0   \n",
       "...                      ...                        ...   \n",
       "41466                    0.0                        0.0   \n",
       "41468                    1.0                        2.0   \n",
       "41469                    0.0                        0.0   \n",
       "41472                    0.0                        0.0   \n",
       "41473                    0.0                        1.0   \n",
       "\n",
       "       Dificuldades_Concentração  Lentidão_ou_Agitação  Ferimento_Morte  \\\n",
       "ID                                                                        \n",
       "31130                        NaN                   NaN              NaN   \n",
       "31131                        0.0                   0.0              0.0   \n",
       "31132                        0.0                   0.0              0.0   \n",
       "31134                        0.0                   0.0              0.0   \n",
       "31139                        0.0                   0.0              0.0   \n",
       "...                          ...                   ...              ...   \n",
       "41466                        0.0                   0.0              0.0   \n",
       "41468                        1.0                   3.0              0.0   \n",
       "41469                        0.0                   0.0              0.0   \n",
       "41472                        0.0                   0.0              0.0   \n",
       "41473                        0.0                   0.0              0.0   \n",
       "\n",
       "       Gênero  ...  Graos_integrais  Laticínios  Proteínas  Marinhas_Vegetais  \\\n",
       "ID             ...                                                              \n",
       "31130       2  ...              NaN         NaN        NaN                NaN   \n",
       "31131       2  ...         0.000000    3.141062   4.071959           2.052399   \n",
       "31132       1  ...         5.000000    4.448512   5.000000           0.000000   \n",
       "31134       1  ...         2.217331    2.313900   5.000000           1.268648   \n",
       "31139       2  ...         0.211544    0.000000   4.088849           4.221442   \n",
       "...       ...  ...              ...         ...        ...                ...   \n",
       "41466       2  ...         4.607930    2.555736   5.000000           4.672204   \n",
       "41468       2  ...         3.041603    5.000000   3.759596           2.344264   \n",
       "41469       1  ...         0.000000    2.151846   5.000000           0.000000   \n",
       "41472       1  ...         0.933303    5.000000   5.000000           5.000000   \n",
       "41473       1  ...         0.000000    5.000000   5.000000           5.000000   \n",
       "\n",
       "       Ácido-graxo     Sódio  Graos_refinados  Gordura_saturada  \\\n",
       "ID                                                                \n",
       "31130          NaN       NaN              NaN               NaN   \n",
       "31131     0.684985  2.297100         9.512964          0.438428   \n",
       "31132     2.050769  7.369489         8.887880          8.186877   \n",
       "31134     2.958985  0.000000         5.627488          5.863078   \n",
       "31139    10.000000  2.845774         0.000000         10.000000   \n",
       "...            ...       ...              ...               ...   \n",
       "41466     4.633477  0.000000         6.580006          8.393244   \n",
       "41468     4.780282  3.134216         1.986137          5.850269   \n",
       "41469     9.344947  3.535211         4.326307          5.269780   \n",
       "41472     2.090534  8.409844         8.936854          3.063795   \n",
       "41473     0.000000  7.458058        10.000000          1.676912   \n",
       "\n",
       "       Acucares_adicionados  Score_Total  \n",
       "ID                                        \n",
       "31130                   NaN          NaN  \n",
       "31131              3.919226    35.553899  \n",
       "31132              9.099088    63.551696  \n",
       "31134              5.878686    42.886826  \n",
       "31139              9.658507    47.074393  \n",
       "...                     ...          ...  \n",
       "41466              9.360990    59.949915  \n",
       "41468             10.000000    57.747869  \n",
       "41469              8.195564    42.993323  \n",
       "41472              0.000000    46.134467  \n",
       "41473              2.751168    45.793478  \n",
       "\n",
       "[5334 rows x 30 columns]"
      ]
     },
     "execution_count": 14,
     "metadata": {},
     "output_type": "execute_result"
    }
   ],
   "source": [
    "df3"
   ]
  },
  {
   "cell_type": "code",
   "execution_count": 15,
   "id": "8aad5d13",
   "metadata": {},
   "outputs": [
    {
     "name": "stdout",
     "output_type": "stream",
     "text": [
      "<class 'pandas.core.frame.DataFrame'>\n",
      "Int64Index: 5334 entries, 31130 to 41473\n",
      "Data columns (total 30 columns):\n",
      " #   Column                     Non-Null Count  Dtype  \n",
      "---  ------                     --------------  -----  \n",
      " 0   Pouco_Interesse            4836 non-null   float64\n",
      " 1   Deprimido                  4836 non-null   float64\n",
      " 2   Dificuldades_Sono          4836 non-null   float64\n",
      " 3   Cansado                    4836 non-null   float64\n",
      " 4   Problemas_Alimentação      4836 non-null   float64\n",
      " 5   Fracasso_DecepçãoFamiliar  4836 non-null   float64\n",
      " 6   Dificuldades_Concentração  4836 non-null   float64\n",
      " 7   Lentidão_ou_Agitação       4836 non-null   float64\n",
      " 8   Ferimento_Morte            4836 non-null   float64\n",
      " 9   Gênero                     5334 non-null   int64  \n",
      " 10  Idade                      5334 non-null   int64  \n",
      " 11  Raça/Etnia                 5334 non-null   int64  \n",
      " 12  Escolaridade               5334 non-null   int64  \n",
      " 13  Renda_Familiar             5287 non-null   float64\n",
      " 14  Tempo_Atividade            5334 non-null   float64\n",
      " 15  Aderencia_PAG              5334 non-null   float64\n",
      " 16  Total_Vegetais             5060 non-null   float64\n",
      " 17  Escuras_Leguminosas        5060 non-null   float64\n",
      " 18  Frutas_Totais              5060 non-null   float64\n",
      " 19  Frutas_natura              5060 non-null   float64\n",
      " 20  Graos_integrais            5060 non-null   float64\n",
      " 21  Laticínios                 5060 non-null   float64\n",
      " 22  Proteínas                  5060 non-null   float64\n",
      " 23  Marinhas_Vegetais          5060 non-null   float64\n",
      " 24  Ácido-graxo                5060 non-null   float64\n",
      " 25  Sódio                      5060 non-null   float64\n",
      " 26  Graos_refinados            5060 non-null   float64\n",
      " 27  Gordura_saturada           5060 non-null   float64\n",
      " 28  Acucares_adicionados       5060 non-null   float64\n",
      " 29  Score_Total                5060 non-null   float64\n",
      "dtypes: float64(26), int64(4)\n",
      "memory usage: 1.3 MB\n"
     ]
    }
   ],
   "source": [
    "df3.info()"
   ]
  },
  {
   "cell_type": "markdown",
   "id": "508ca41f",
   "metadata": {},
   "source": [
    "<b> VERIFICANDO MAIS ALGUMAS INFORMAÇÕES A RESPEITO DOS DADOS, PARA CONTINUAR O TRATAMENTO <b>"
   ]
  },
  {
   "cell_type": "code",
   "execution_count": 16,
   "id": "5308b1d5",
   "metadata": {},
   "outputs": [
    {
     "data": {
      "text/plain": [
       "<AxesSubplot:>"
      ]
     },
     "execution_count": 16,
     "metadata": {},
     "output_type": "execute_result"
    },
    {
     "data": {
      "image/png": "[encoded data removed]",
      "text/plain": [
       "<Figure size 1728x720 with 3 Axes>"
      ]
     },
     "metadata": {
      "needs_background": "light"
     },
     "output_type": "display_data"
    }
   ],
   "source": [
    "msno.bar(df3)"
   ]
  },
  {
   "cell_type": "code",
   "execution_count": 17,
   "id": "1882c10b",
   "metadata": {},
   "outputs": [
    {
     "data": {
      "text/plain": [
       "Pouco_Interesse               0.000000\n",
       "Deprimido                     0.000000\n",
       "Dificuldades_Sono             0.000000\n",
       "Cansado                       0.000000\n",
       "Problemas_Alimentação         0.000000\n",
       "Fracasso_DecepçãoFamiliar     0.000000\n",
       "Dificuldades_Concentração     0.000000\n",
       "Lentidão_ou_Agitação          0.000000\n",
       "Ferimento_Morte               0.000000\n",
       "Gênero                        1.000000\n",
       "Idade                        18.000000\n",
       "Raça/Etnia                    1.000000\n",
       "Escolaridade                  1.000000\n",
       "Renda_Familiar                1.000000\n",
       "Tempo_Atividade               0.000000\n",
       "Aderencia_PAG                 1.000000\n",
       "Total_Vegetais                0.000000\n",
       "Escuras_Leguminosas           0.000000\n",
       "Frutas_Totais                 0.000000\n",
       "Frutas_natura                 0.000000\n",
       "Graos_integrais               0.000000\n",
       "Laticínios                    0.000000\n",
       "Proteínas                     0.000000\n",
       "Marinhas_Vegetais             0.000000\n",
       "Ácido-graxo                   0.000000\n",
       "Sódio                         0.000000\n",
       "Graos_refinados               0.000000\n",
       "Gordura_saturada              0.000000\n",
       "Acucares_adicionados          0.000000\n",
       "Score_Total                  16.059212\n",
       "dtype: float64"
      ]
     },
     "execution_count": 17,
     "metadata": {},
     "output_type": "execute_result"
    }
   ],
   "source": [
    "df3.min()"
   ]
  },
  {
   "cell_type": "code",
   "execution_count": 18,
   "id": "9eb2a302",
   "metadata": {},
   "outputs": [
    {
     "data": {
      "text/plain": [
       "Pouco_Interesse                  9.000000\n",
       "Deprimido                        9.000000\n",
       "Dificuldades_Sono                9.000000\n",
       "Cansado                          9.000000\n",
       "Problemas_Alimentação            9.000000\n",
       "Fracasso_DecepçãoFamiliar        9.000000\n",
       "Dificuldades_Concentração        9.000000\n",
       "Lentidão_ou_Agitação             9.000000\n",
       "Ferimento_Morte                  9.000000\n",
       "Gênero                           2.000000\n",
       "Idade                           85.000000\n",
       "Raça/Etnia                       5.000000\n",
       "Escolaridade                     9.000000\n",
       "Renda_Familiar                  99.000000\n",
       "Tempo_Atividade              10777.829099\n",
       "Aderencia_PAG                    3.000000\n",
       "Total_Vegetais                   5.000000\n",
       "Escuras_Leguminosas              5.000000\n",
       "Frutas_Totais                    5.000000\n",
       "Frutas_natura                    5.000000\n",
       "Graos_integrais                  5.000000\n",
       "Laticínios                       5.000000\n",
       "Proteínas                        5.000000\n",
       "Marinhas_Vegetais                5.000000\n",
       "Ácido-graxo                     10.000000\n",
       "Sódio                           10.000000\n",
       "Graos_refinados                 10.000000\n",
       "Gordura_saturada                10.000000\n",
       "Acucares_adicionados            10.000000\n",
       "Score_Total                     89.529383\n",
       "dtype: float64"
      ]
     },
     "execution_count": 18,
     "metadata": {},
     "output_type": "execute_result"
    }
   ],
   "source": [
    "df3.max()"
   ]
  },
  {
   "cell_type": "code",
   "execution_count": 19,
   "id": "386f5ad7",
   "metadata": {},
   "outputs": [
    {
     "data": {
      "text/plain": [
       "Pouco_Interesse               True\n",
       "Deprimido                     True\n",
       "Dificuldades_Sono             True\n",
       "Cansado                       True\n",
       "Problemas_Alimentação         True\n",
       "Fracasso_DecepçãoFamiliar     True\n",
       "Dificuldades_Concentração     True\n",
       "Lentidão_ou_Agitação          True\n",
       "Ferimento_Morte               True\n",
       "Gênero                       False\n",
       "Idade                        False\n",
       "Raça/Etnia                   False\n",
       "Escolaridade                 False\n",
       "Renda_Familiar                True\n",
       "Tempo_Atividade              False\n",
       "Aderencia_PAG                False\n",
       "Total_Vegetais                True\n",
       "Escuras_Leguminosas           True\n",
       "Frutas_Totais                 True\n",
       "Frutas_natura                 True\n",
       "Graos_integrais               True\n",
       "Laticínios                    True\n",
       "Proteínas                     True\n",
       "Marinhas_Vegetais             True\n",
       "Ácido-graxo                   True\n",
       "Sódio                         True\n",
       "Graos_refinados               True\n",
       "Gordura_saturada              True\n",
       "Acucares_adicionados          True\n",
       "Score_Total                   True\n",
       "dtype: bool"
      ]
     },
     "execution_count": 19,
     "metadata": {},
     "output_type": "execute_result"
    }
   ],
   "source": [
    "df3.isnull().any()\n"
   ]
  },
  {
   "cell_type": "code",
   "execution_count": 20,
   "id": "9c0b325b",
   "metadata": {},
   "outputs": [
    {
     "data": {
      "text/plain": [
       "Pouco_Interesse              498\n",
       "Deprimido                    498\n",
       "Dificuldades_Sono            498\n",
       "Cansado                      498\n",
       "Problemas_Alimentação        498\n",
       "Fracasso_DecepçãoFamiliar    498\n",
       "Dificuldades_Concentração    498\n",
       "Lentidão_ou_Agitação         498\n",
       "Ferimento_Morte              498\n",
       "Gênero                         0\n",
       "Idade                          0\n",
       "Raça/Etnia                     0\n",
       "Escolaridade                   0\n",
       "Renda_Familiar                47\n",
       "Tempo_Atividade                0\n",
       "Aderencia_PAG                  0\n",
       "Total_Vegetais               274\n",
       "Escuras_Leguminosas          274\n",
       "Frutas_Totais                274\n",
       "Frutas_natura                274\n",
       "Graos_integrais              274\n",
       "Laticínios                   274\n",
       "Proteínas                    274\n",
       "Marinhas_Vegetais            274\n",
       "Ácido-graxo                  274\n",
       "Sódio                        274\n",
       "Graos_refinados              274\n",
       "Gordura_saturada             274\n",
       "Acucares_adicionados         274\n",
       "Score_Total                  274\n",
       "dtype: int64"
      ]
     },
     "execution_count": 20,
     "metadata": {},
     "output_type": "execute_result"
    }
   ],
   "source": [
    "df3.isnull().sum()"
   ]
  },
  {
   "cell_type": "code",
   "execution_count": 21,
   "id": "7f8e24a5",
   "metadata": {},
   "outputs": [],
   "source": [
    "faltantes_percentual = (df3.isnull().sum() / len(df3['Pouco_Interesse'])) *100"
   ]
  },
  {
   "cell_type": "code",
   "execution_count": 22,
   "id": "2fc74d3a",
   "metadata": {
    "scrolled": true
   },
   "outputs": [
    {
     "name": "stdout",
     "output_type": "stream",
     "text": [
      "Pouco_Interesse              9.336333\n",
      "Deprimido                    9.336333\n",
      "Dificuldades_Sono            9.336333\n",
      "Cansado                      9.336333\n",
      "Problemas_Alimentação        9.336333\n",
      "Fracasso_DecepçãoFamiliar    9.336333\n",
      "Dificuldades_Concentração    9.336333\n",
      "Lentidão_ou_Agitação         9.336333\n",
      "Ferimento_Morte              9.336333\n",
      "Gênero                       0.000000\n",
      "Idade                        0.000000\n",
      "Raça/Etnia                   0.000000\n",
      "Escolaridade                 0.000000\n",
      "Renda_Familiar               0.881140\n",
      "Tempo_Atividade              0.000000\n",
      "Aderencia_PAG                0.000000\n",
      "Total_Vegetais               5.136858\n",
      "Escuras_Leguminosas          5.136858\n",
      "Frutas_Totais                5.136858\n",
      "Frutas_natura                5.136858\n",
      "Graos_integrais              5.136858\n",
      "Laticínios                   5.136858\n",
      "Proteínas                    5.136858\n",
      "Marinhas_Vegetais            5.136858\n",
      "Ácido-graxo                  5.136858\n",
      "Sódio                        5.136858\n",
      "Graos_refinados              5.136858\n",
      "Gordura_saturada             5.136858\n",
      "Acucares_adicionados         5.136858\n",
      "Score_Total                  5.136858\n",
      "dtype: float64\n"
     ]
    }
   ],
   "source": [
    "print(faltantes_percentual)"
   ]
  },
  {
   "cell_type": "markdown",
   "id": "7c976eda",
   "metadata": {},
   "source": [
    "<b> VEMOS O PERCENTUAL DE DADOS FALTANTES DE CADA COLUNA DO NOSSO DATASET <b>"
   ]
  },
  {
   "cell_type": "markdown",
   "id": "436235a0",
   "metadata": {},
   "source": [
    "<B> SUBSTITUINDO OS VALORES NULOS NAS COLUNAS, PELO VALOR DA MÉDIA DAS MESMAS <b>"
   ]
  },
  {
   "cell_type": "code",
   "execution_count": 23,
   "id": "9fcd9d16",
   "metadata": {},
   "outputs": [
    {
     "name": "stdout",
     "output_type": "stream",
     "text": [
      "<class 'pandas.core.frame.DataFrame'>\n",
      "Int64Index: 5334 entries, 31130 to 41473\n",
      "Data columns (total 30 columns):\n",
      " #   Column                     Non-Null Count  Dtype  \n",
      "---  ------                     --------------  -----  \n",
      " 0   Pouco_Interesse            5334 non-null   float64\n",
      " 1   Deprimido                  5334 non-null   float64\n",
      " 2   Dificuldades_Sono          5334 non-null   float64\n",
      " 3   Cansado                    5334 non-null   float64\n",
      " 4   Problemas_Alimentação      5334 non-null   float64\n",
      " 5   Fracasso_DecepçãoFamiliar  5334 non-null   float64\n",
      " 6   Dificuldades_Concentração  5334 non-null   float64\n",
      " 7   Lentidão_ou_Agitação       5334 non-null   float64\n",
      " 8   Ferimento_Morte            5334 non-null   float64\n",
      " 9   Gênero                     5334 non-null   int64  \n",
      " 10  Idade                      5334 non-null   int64  \n",
      " 11  Raça/Etnia                 5334 non-null   int64  \n",
      " 12  Escolaridade               5334 non-null   int64  \n",
      " 13  Renda_Familiar             5334 non-null   float64\n",
      " 14  Tempo_Atividade            5334 non-null   float64\n",
      " 15  Aderencia_PAG              5334 non-null   float64\n",
      " 16  Total_Vegetais             5334 non-null   float64\n",
      " 17  Escuras_Leguminosas        5334 non-null   float64\n",
      " 18  Frutas_Totais              5334 non-null   float64\n",
      " 19  Frutas_natura              5334 non-null   float64\n",
      " 20  Graos_integrais            5334 non-null   float64\n",
      " 21  Laticínios                 5334 non-null   float64\n",
      " 22  Proteínas                  5334 non-null   float64\n",
      " 23  Marinhas_Vegetais          5334 non-null   float64\n",
      " 24  Ácido-graxo                5334 non-null   float64\n",
      " 25  Sódio                      5334 non-null   float64\n",
      " 26  Graos_refinados            5334 non-null   float64\n",
      " 27  Gordura_saturada           5334 non-null   float64\n",
      " 28  Acucares_adicionados       5334 non-null   float64\n",
      " 29  Score_Total                5334 non-null   float64\n",
      "dtypes: float64(26), int64(4)\n",
      "memory usage: 1.3 MB\n"
     ]
    }
   ],
   "source": [
    "df3['Pouco_Interesse'].fillna(df3['Pouco_Interesse'].mean(), inplace=True)\n",
    "df3['Deprimido'].fillna(df3['Pouco_Interesse'].mean(), inplace=True)\n",
    "df3['Dificuldades_Sono'].fillna(df3['Pouco_Interesse'].mean(), inplace=True)\n",
    "df3['Cansado'].fillna(df3['Pouco_Interesse'].mean(), inplace=True)\n",
    "df3['Problemas_Alimentação'].fillna(df3['Pouco_Interesse'].mean(), inplace=True)\n",
    "df3['Fracasso_DecepçãoFamiliar'].fillna(df3['Pouco_Interesse'].mean(), inplace=True)\n",
    "df3['Dificuldades_Concentração'].fillna(df3['Pouco_Interesse'].mean(), inplace=True)\n",
    "df3['Lentidão_ou_Agitação'].fillna(df3['Pouco_Interesse'].mean(), inplace=True)\n",
    "df3['Ferimento_Morte'].fillna(df3['Pouco_Interesse'].mean(), inplace=True)\n",
    "df3['Renda_Familiar'].fillna(df3['Pouco_Interesse'].mean(), inplace=True)\n",
    "df3['Total_Vegetais'].fillna(df3['Pouco_Interesse'].mean(), inplace=True)\n",
    "df3['Escuras_Leguminosas'].fillna(df3['Pouco_Interesse'].mean(), inplace=True)\n",
    "df3['Frutas_Totais'].fillna(df3['Pouco_Interesse'].mean(), inplace=True)\n",
    "df3['Frutas_natura'].fillna(df3['Pouco_Interesse'].mean(), inplace=True)\n",
    "df3['Graos_integrais'].fillna(df3['Pouco_Interesse'].mean(), inplace=True)\n",
    "df3['Laticínios'].fillna(df3['Pouco_Interesse'].mean(), inplace=True)\n",
    "df3['Proteínas'].fillna(df3['Pouco_Interesse'].mean(), inplace=True)\n",
    "df3['Marinhas_Vegetais'].fillna(df3['Pouco_Interesse'].mean(), inplace=True)\n",
    "df3['Ácido-graxo'].fillna(df3['Pouco_Interesse'].mean(), inplace=True)\n",
    "df3['Sódio'].fillna(df3['Pouco_Interesse'].mean(), inplace=True)\n",
    "df3['Graos_refinados'].fillna(df3['Pouco_Interesse'].mean(), inplace=True)\n",
    "df3['Gordura_saturada'].fillna(df3['Pouco_Interesse'].mean(), inplace=True)\n",
    "df3['Acucares_adicionados'].fillna(df3['Pouco_Interesse'].mean(), inplace=True)\n",
    "df3['Score_Total'].fillna(df3['Pouco_Interesse'].mean(), inplace=True)\n",
    "\n",
    "df3.info()"
   ]
  },
  {
   "cell_type": "markdown",
   "id": "26a9d040",
   "metadata": {},
   "source": [
    "<B> TEMOS ALGUNS VALORES QUE NÃO SE ENQUANDRAM COMO NÚMEROS INTEIROS, SENDO QUE AS RESPOSTAS PARA AS CATEGORIAS DE SINTOMAS DE DEPRESSÃO, SÃO DADAS APENAS EM NÚMEROS INTEIROS, COMO: 1,2,3, ETC. PORTANTO VAMOS SUBSTITUIR AS CATEGORIAS DESSAS INFORMAÇÕES POR NÚMEROS INTEIROS <b>"
   ]
  },
  {
   "cell_type": "code",
   "execution_count": 24,
   "id": "7abe78ec",
   "metadata": {},
   "outputs": [],
   "source": [
    "df3['Pouco_Interesse'] = df3['Pouco_Interesse'].astype(np.int64)\n",
    "df3['Deprimido'] = df3['Deprimido'].astype(np.int64)\n",
    "df3['Dificuldades_Sono'] = df3['Dificuldades_Sono'].astype(np.int64)\n",
    "df3['Cansado'] = df3['Cansado'].astype(np.int64)\n",
    "df3['Problemas_Alimentação'] = df3['Problemas_Alimentação'].astype(np.int64)\n",
    "df3['Fracasso_DecepçãoFamiliar'] = df3['Fracasso_DecepçãoFamiliar'].astype(np.int64)\n",
    "df3['Dificuldades_Concentração'] = df3['Dificuldades_Concentração'].astype(np.int64)\n",
    "df3['Lentidão_ou_Agitação'] = df3['Lentidão_ou_Agitação'].astype(np.int64)\n",
    "df3['Ferimento_Morte'] = df3['Ferimento_Morte'].astype(np.int64)"
   ]
  },
  {
   "cell_type": "markdown",
   "id": "b4111f37",
   "metadata": {},
   "source": [
    "<b> INICIANDO A EDA <B>"
   ]
  },
  {
   "cell_type": "markdown",
   "id": "679f5e05",
   "metadata": {},
   "source": [
    "<b> ANALISANDO AS RESPOSTAS DAS PESSOAS COM RELAÇÃO A SENTIR POUCO INTERESSE EM ATIVIDADES, ETC. <B>"
   ]
  },
  {
   "cell_type": "code",
   "execution_count": 47,
   "id": "9856ec85",
   "metadata": {},
   "outputs": [
    {
     "data": {
      "text/plain": [
       "0    4348\n",
       "1     673\n",
       "2     180\n",
       "3     124\n",
       "9       9\n",
       "Name: Pouco_Interesse, dtype: int64"
      ]
     },
     "execution_count": 47,
     "metadata": {},
     "output_type": "execute_result"
    }
   ],
   "source": [
    "df3['Pouco_Interesse'].value_counts(sort = False)"
   ]
  },
  {
   "cell_type": "code",
   "execution_count": 25,
   "id": "10eefc51",
   "metadata": {},
   "outputs": [
    {
     "data": {
      "text/plain": [
       "<AxesSubplot:xlabel='Pouco_Interesse', ylabel='Count'>"
      ]
     },
     "execution_count": 25,
     "metadata": {},
     "output_type": "execute_result"
    },
    {
     "data": {
      "image/png": "[encoded data removed]",
      "text/plain": [
       "<Figure size 864x576 with 1 Axes>"
      ]
     },
     "metadata": {
      "needs_background": "light"
     },
     "output_type": "display_data"
    }
   ],
   "source": [
    "sns.histplot(data=df3, x=\"Pouco_Interesse\", fill=False,\n",
    "             cumulative=False, common_norm=False, bins=20)"
   ]
  },
  {
   "cell_type": "code",
   "execution_count": 26,
   "id": "66e524fb",
   "metadata": {},
   "outputs": [
    {
     "data": {
      "text/plain": [
       "0    4348\n",
       "1     673\n",
       "2     180\n",
       "3     124\n",
       "9       9\n",
       "Name: Pouco_Interesse, dtype: int64"
      ]
     },
     "execution_count": 26,
     "metadata": {},
     "output_type": "execute_result"
    }
   ],
   "source": [
    "df3['Pouco_Interesse'].value_counts()"
   ]
  },
  {
   "cell_type": "code",
   "execution_count": 27,
   "id": "0a9af9b5",
   "metadata": {},
   "outputs": [
    {
     "data": {
      "text/plain": [
       "0.0"
      ]
     },
     "execution_count": 27,
     "metadata": {},
     "output_type": "execute_result"
    }
   ],
   "source": [
    "df3['Pouco_Interesse'].median()"
   ]
  },
  {
   "cell_type": "markdown",
   "id": "639c0903",
   "metadata": {},
   "source": [
    "<b> Podemos verificar que a média de respostas referente a pessoas que se sentiram com pouco interesse nas últimas duas semanas, foram de ''0 = Nenhuma vez''. Poderia continuar análise, com todos os itens para ter uma ideia maior a respeito de todas categorias. <b>"
   ]
  },
  {
   "cell_type": "code",
   "execution_count": 50,
   "id": "b1544a2e",
   "metadata": {},
   "outputs": [
    {
     "data": {
      "text/plain": [
       "0    4267\n",
       "1     769\n",
       "2     179\n",
       "3     114\n",
       "9       5\n",
       "Name: Deprimido, dtype: int64"
      ]
     },
     "execution_count": 50,
     "metadata": {},
     "output_type": "execute_result"
    }
   ],
   "source": [
    "df3['Deprimido'].value_counts(sort = False)"
   ]
  },
  {
   "cell_type": "code",
   "execution_count": 51,
   "id": "ca05a7ac",
   "metadata": {},
   "outputs": [
    {
     "data": {
      "text/plain": [
       "<AxesSubplot:xlabel='Deprimido', ylabel='Count'>"
      ]
     },
     "execution_count": 51,
     "metadata": {},
     "output_type": "execute_result"
    },
    {
     "data": {
      "image/png": "[encoded data removed]",
      "text/plain": [
       "<Figure size 864x576 with 1 Axes>"
      ]
     },
     "metadata": {
      "needs_background": "light"
     },
     "output_type": "display_data"
    }
   ],
   "source": [
    "sns.histplot(data=df3, x=\"Deprimido\", fill=False,\n",
    "             cumulative=False, common_norm=False, bins=20)"
   ]
  },
  {
   "cell_type": "code",
   "execution_count": 28,
   "id": "a391ff11",
   "metadata": {},
   "outputs": [
    {
     "data": {
      "text/plain": [
       "Index(['Pouco_Interesse', 'Deprimido', 'Dificuldades_Sono', 'Cansado',\n",
       "       'Problemas_Alimentação', 'Fracasso_DecepçãoFamiliar',\n",
       "       'Dificuldades_Concentração', 'Lentidão_ou_Agitação', 'Ferimento_Morte',\n",
       "       'Gênero', 'Idade', 'Raça/Etnia', 'Escolaridade', 'Renda_Familiar',\n",
       "       'Tempo_Atividade', 'Aderencia_PAG', 'Total_Vegetais',\n",
       "       'Escuras_Leguminosas', 'Frutas_Totais', 'Frutas_natura',\n",
       "       'Graos_integrais', 'Laticínios', 'Proteínas', 'Marinhas_Vegetais',\n",
       "       'Ácido-graxo', 'Sódio', 'Graos_refinados', 'Gordura_saturada',\n",
       "       'Acucares_adicionados', 'Score_Total'],\n",
       "      dtype='object')"
      ]
     },
     "execution_count": 28,
     "metadata": {},
     "output_type": "execute_result"
    }
   ],
   "source": [
    "df3.columns"
   ]
  },
  {
   "cell_type": "markdown",
   "id": "73bdcd08",
   "metadata": {},
   "source": [
    "<b> Criando a variável de escore, no qual soma todas os sintomas <b>"
   ]
  },
  {
   "cell_type": "code",
   "execution_count": 29,
   "id": "8eac9426",
   "metadata": {},
   "outputs": [],
   "source": [
    "df3['escore'] = df3['Pouco_Interesse'] + df3['Deprimido'] + df3['Dificuldades_Sono'] +  df3['Cansado'] + df3['Problemas_Alimentação'] + df3['Fracasso_DecepçãoFamiliar'] + df3['Dificuldades_Concentração'] +  df3['Lentidão_ou_Agitação'] + df3['Ferimento_Morte'] "
   ]
  },
  {
   "cell_type": "code",
   "execution_count": 30,
   "id": "9585027e",
   "metadata": {},
   "outputs": [
    {
     "data": {
      "text/html": [
       "<div>\n",
       "<style scoped>\n",
       "    .dataframe tbody tr th:only-of-type {\n",
       "        vertical-align: middle;\n",
       "    }\n",
       "\n",
       "    .dataframe tbody tr th {\n",
       "        vertical-align: top;\n",
       "    }\n",
       "\n",
       "    .dataframe thead th {\n",
       "        text-align: right;\n",
       "    }\n",
       "</style>\n",
       "<table border=\"1\" class=\"dataframe\">\n",
       "  <thead>\n",
       "    <tr style=\"text-align: right;\">\n",
       "      <th></th>\n",
       "      <th>Pouco_Interesse</th>\n",
       "      <th>Deprimido</th>\n",
       "      <th>Dificuldades_Sono</th>\n",
       "      <th>Cansado</th>\n",
       "      <th>Problemas_Alimentação</th>\n",
       "      <th>Fracasso_DecepçãoFamiliar</th>\n",
       "      <th>Dificuldades_Concentração</th>\n",
       "      <th>Lentidão_ou_Agitação</th>\n",
       "      <th>Ferimento_Morte</th>\n",
       "      <th>Gênero</th>\n",
       "      <th>...</th>\n",
       "      <th>Laticínios</th>\n",
       "      <th>Proteínas</th>\n",
       "      <th>Marinhas_Vegetais</th>\n",
       "      <th>Ácido-graxo</th>\n",
       "      <th>Sódio</th>\n",
       "      <th>Graos_refinados</th>\n",
       "      <th>Gordura_saturada</th>\n",
       "      <th>Acucares_adicionados</th>\n",
       "      <th>Score_Total</th>\n",
       "      <th>escore</th>\n",
       "    </tr>\n",
       "    <tr>\n",
       "      <th>ID</th>\n",
       "      <th></th>\n",
       "      <th></th>\n",
       "      <th></th>\n",
       "      <th></th>\n",
       "      <th></th>\n",
       "      <th></th>\n",
       "      <th></th>\n",
       "      <th></th>\n",
       "      <th></th>\n",
       "      <th></th>\n",
       "      <th></th>\n",
       "      <th></th>\n",
       "      <th></th>\n",
       "      <th></th>\n",
       "      <th></th>\n",
       "      <th></th>\n",
       "      <th></th>\n",
       "      <th></th>\n",
       "      <th></th>\n",
       "      <th></th>\n",
       "      <th></th>\n",
       "    </tr>\n",
       "  </thead>\n",
       "  <tbody>\n",
       "    <tr>\n",
       "      <th>31130</th>\n",
       "      <td>0</td>\n",
       "      <td>0</td>\n",
       "      <td>0</td>\n",
       "      <td>0</td>\n",
       "      <td>0</td>\n",
       "      <td>0</td>\n",
       "      <td>0</td>\n",
       "      <td>0</td>\n",
       "      <td>0</td>\n",
       "      <td>2</td>\n",
       "      <td>...</td>\n",
       "      <td>0.307279</td>\n",
       "      <td>0.307279</td>\n",
       "      <td>0.307279</td>\n",
       "      <td>0.307279</td>\n",
       "      <td>0.307279</td>\n",
       "      <td>0.307279</td>\n",
       "      <td>0.307279</td>\n",
       "      <td>0.307279</td>\n",
       "      <td>0.307279</td>\n",
       "      <td>0</td>\n",
       "    </tr>\n",
       "    <tr>\n",
       "      <th>31131</th>\n",
       "      <td>0</td>\n",
       "      <td>0</td>\n",
       "      <td>0</td>\n",
       "      <td>0</td>\n",
       "      <td>0</td>\n",
       "      <td>0</td>\n",
       "      <td>0</td>\n",
       "      <td>0</td>\n",
       "      <td>0</td>\n",
       "      <td>2</td>\n",
       "      <td>...</td>\n",
       "      <td>3.141062</td>\n",
       "      <td>4.071959</td>\n",
       "      <td>2.052399</td>\n",
       "      <td>0.684985</td>\n",
       "      <td>2.297100</td>\n",
       "      <td>9.512964</td>\n",
       "      <td>0.438428</td>\n",
       "      <td>3.919226</td>\n",
       "      <td>35.553899</td>\n",
       "      <td>0</td>\n",
       "    </tr>\n",
       "    <tr>\n",
       "      <th>31132</th>\n",
       "      <td>0</td>\n",
       "      <td>0</td>\n",
       "      <td>0</td>\n",
       "      <td>0</td>\n",
       "      <td>0</td>\n",
       "      <td>0</td>\n",
       "      <td>0</td>\n",
       "      <td>0</td>\n",
       "      <td>0</td>\n",
       "      <td>1</td>\n",
       "      <td>...</td>\n",
       "      <td>4.448512</td>\n",
       "      <td>5.000000</td>\n",
       "      <td>0.000000</td>\n",
       "      <td>2.050769</td>\n",
       "      <td>7.369489</td>\n",
       "      <td>8.887880</td>\n",
       "      <td>8.186877</td>\n",
       "      <td>9.099088</td>\n",
       "      <td>63.551696</td>\n",
       "      <td>0</td>\n",
       "    </tr>\n",
       "    <tr>\n",
       "      <th>31134</th>\n",
       "      <td>0</td>\n",
       "      <td>0</td>\n",
       "      <td>0</td>\n",
       "      <td>0</td>\n",
       "      <td>0</td>\n",
       "      <td>0</td>\n",
       "      <td>0</td>\n",
       "      <td>0</td>\n",
       "      <td>0</td>\n",
       "      <td>1</td>\n",
       "      <td>...</td>\n",
       "      <td>2.313900</td>\n",
       "      <td>5.000000</td>\n",
       "      <td>1.268648</td>\n",
       "      <td>2.958985</td>\n",
       "      <td>0.000000</td>\n",
       "      <td>5.627488</td>\n",
       "      <td>5.863078</td>\n",
       "      <td>5.878686</td>\n",
       "      <td>42.886826</td>\n",
       "      <td>0</td>\n",
       "    </tr>\n",
       "    <tr>\n",
       "      <th>31139</th>\n",
       "      <td>0</td>\n",
       "      <td>0</td>\n",
       "      <td>0</td>\n",
       "      <td>0</td>\n",
       "      <td>3</td>\n",
       "      <td>1</td>\n",
       "      <td>0</td>\n",
       "      <td>0</td>\n",
       "      <td>0</td>\n",
       "      <td>2</td>\n",
       "      <td>...</td>\n",
       "      <td>0.000000</td>\n",
       "      <td>4.088849</td>\n",
       "      <td>4.221442</td>\n",
       "      <td>10.000000</td>\n",
       "      <td>2.845774</td>\n",
       "      <td>0.000000</td>\n",
       "      <td>10.000000</td>\n",
       "      <td>9.658507</td>\n",
       "      <td>47.074393</td>\n",
       "      <td>4</td>\n",
       "    </tr>\n",
       "  </tbody>\n",
       "</table>\n",
       "<p>5 rows × 31 columns</p>\n",
       "</div>"
      ],
      "text/plain": [
       "       Pouco_Interesse  Deprimido  Dificuldades_Sono  Cansado  \\\n",
       "ID                                                              \n",
       "31130                0          0                  0        0   \n",
       "31131                0          0                  0        0   \n",
       "31132                0          0                  0        0   \n",
       "31134                0          0                  0        0   \n",
       "31139                0          0                  0        0   \n",
       "\n",
       "       Problemas_Alimentação  Fracasso_DecepçãoFamiliar  \\\n",
       "ID                                                        \n",
       "31130                      0                          0   \n",
       "31131                      0                          0   \n",
       "31132                      0                          0   \n",
       "31134                      0                          0   \n",
       "31139                      3                          1   \n",
       "\n",
       "       Dificuldades_Concentração  Lentidão_ou_Agitação  Ferimento_Morte  \\\n",
       "ID                                                                        \n",
       "31130                          0                     0                0   \n",
       "31131                          0                     0                0   \n",
       "31132                          0                     0                0   \n",
       "31134                          0                     0                0   \n",
       "31139                          0                     0                0   \n",
       "\n",
       "       Gênero  ...  Laticínios  Proteínas  Marinhas_Vegetais  Ácido-graxo  \\\n",
       "ID             ...                                                          \n",
       "31130       2  ...    0.307279   0.307279           0.307279     0.307279   \n",
       "31131       2  ...    3.141062   4.071959           2.052399     0.684985   \n",
       "31132       1  ...    4.448512   5.000000           0.000000     2.050769   \n",
       "31134       1  ...    2.313900   5.000000           1.268648     2.958985   \n",
       "31139       2  ...    0.000000   4.088849           4.221442    10.000000   \n",
       "\n",
       "          Sódio  Graos_refinados  Gordura_saturada  Acucares_adicionados  \\\n",
       "ID                                                                         \n",
       "31130  0.307279         0.307279          0.307279              0.307279   \n",
       "31131  2.297100         9.512964          0.438428              3.919226   \n",
       "31132  7.369489         8.887880          8.186877              9.099088   \n",
       "31134  0.000000         5.627488          5.863078              5.878686   \n",
       "31139  2.845774         0.000000         10.000000              9.658507   \n",
       "\n",
       "       Score_Total  escore  \n",
       "ID                          \n",
       "31130     0.307279       0  \n",
       "31131    35.553899       0  \n",
       "31132    63.551696       0  \n",
       "31134    42.886826       0  \n",
       "31139    47.074393       4  \n",
       "\n",
       "[5 rows x 31 columns]"
      ]
     },
     "execution_count": 30,
     "metadata": {},
     "output_type": "execute_result"
    }
   ],
   "source": [
    "df3.head()"
   ]
  },
  {
   "cell_type": "code",
   "execution_count": 31,
   "id": "f3feaab2",
   "metadata": {},
   "outputs": [
    {
     "data": {
      "text/plain": [
       "2.5821147356580427"
      ]
     },
     "execution_count": 31,
     "metadata": {},
     "output_type": "execute_result"
    }
   ],
   "source": [
    "df3.escore.mean()"
   ]
  },
  {
   "cell_type": "code",
   "execution_count": 32,
   "id": "fc9daa05",
   "metadata": {},
   "outputs": [
    {
     "data": {
      "text/plain": [
       "1.0"
      ]
     },
     "execution_count": 32,
     "metadata": {},
     "output_type": "execute_result"
    }
   ],
   "source": [
    "df3.escore.median()"
   ]
  },
  {
   "cell_type": "code",
   "execution_count": 33,
   "id": "d1989c8d",
   "metadata": {},
   "outputs": [
    {
     "data": {
      "text/plain": [
       "3.9144759786030288"
      ]
     },
     "execution_count": 33,
     "metadata": {},
     "output_type": "execute_result"
    }
   ],
   "source": [
    "np.std(df3.escore)"
   ]
  },
  {
   "cell_type": "code",
   "execution_count": 96,
   "id": "7543bae5",
   "metadata": {},
   "outputs": [
    {
     "data": {
      "text/plain": [
       "0     2142\n",
       "1      806\n",
       "2      662\n",
       "3      412\n",
       "4      272\n",
       "5      217\n",
       "6      191\n",
       "7      123\n",
       "9       92\n",
       "8       89\n",
       "10      60\n",
       "12      48\n",
       "11      44\n",
       "13      31\n",
       "14      29\n",
       "15      23\n",
       "17      18\n",
       "16      16\n",
       "18      12\n",
       "19      12\n",
       "21       8\n",
       "22       5\n",
       "23       4\n",
       "20       3\n",
       "24       3\n",
       "27       2\n",
       "25       2\n",
       "26       2\n",
       "33       2\n",
       "30       1\n",
       "31       1\n",
       "40       1\n",
       "42       1\n",
       "Name: escore, dtype: int64"
      ]
     },
     "execution_count": 96,
     "metadata": {},
     "output_type": "execute_result"
    }
   ],
   "source": [
    "df3.escore.value_counts()"
   ]
  },
  {
   "cell_type": "code",
   "execution_count": 100,
   "id": "46707593",
   "metadata": {},
   "outputs": [
    {
     "data": {
      "text/plain": [
       "phq_grp\n",
       "0.0        4511\n",
       "1.0         495\n",
       "2.0         212\n",
       "3.0          81\n",
       "4.0          35\n",
       "dtype: int64"
      ]
     },
     "execution_count": 100,
     "metadata": {},
     "output_type": "execute_result"
    }
   ],
   "source": [
    "conditions = [\n",
    "  (df3['escore'].isna()),\n",
    "  (df3['escore'] <= 5),\n",
    "  (df3['escore'] > 5) & (df3['escore'] <= 9),\n",
    "  (df3['escore'] > 9) & (df3['escore'] <= 14),\n",
    "  (df3['escore'] > 14) & (df3['escore'] <= 19),\n",
    "  (df3['escore'] > 19)\n",
    "    ]\n",
    "values = [np.nan, 0, 1, 2, 3, 4]\n",
    "\n",
    "df3[\"phq_grp\"] = np.select(conditions, values) # Construindo variável\n",
    "\n",
    "df3[[\"phq_grp\"]].value_counts(sort = False) # Avaliando frequencia"
   ]
  },
  {
   "cell_type": "code",
   "execution_count": 103,
   "id": "fd2aedf2",
   "metadata": {},
   "outputs": [
    {
     "data": {
      "text/plain": [
       "phq_grp2\n",
       "0.0         4511\n",
       "1.0          495\n",
       "2.0          328\n",
       "dtype: int64"
      ]
     },
     "execution_count": 103,
     "metadata": {},
     "output_type": "execute_result"
    }
   ],
   "source": [
    "# Agrupando phq_grp em 0 = Sem sintomas, 1 = Sintomas leves, 2 = Sintomas moderados a severos\n",
    "\n",
    "df3[\"phq_grp2\"] = df3[\"phq_grp\"].replace([3, 4], 2)\n",
    "\n",
    "df3[[\"phq_grp2\"]].value_counts(sort = False) # Avaliando frequencia"
   ]
  },
  {
   "cell_type": "code",
   "execution_count": 105,
   "id": "1aa65f73",
   "metadata": {
    "scrolled": false
   },
   "outputs": [
    {
     "data": {
      "image/png": "[encoded data removed]",
      "text/plain": [
       "<Figure size 864x576 with 1 Axes>"
      ]
     },
     "metadata": {
      "needs_background": "light"
     },
     "output_type": "display_data"
    }
   ],
   "source": [
    "ax = sns.countplot(x=\"phq_grp2\", data=df3)"
   ]
  },
  {
   "cell_type": "markdown",
   "id": "28af4335",
   "metadata": {},
   "source": [
    "<b> Verificando um pouco a questão de genêro do nosso dataset <b>"
   ]
  },
  {
   "cell_type": "code",
   "execution_count": 35,
   "id": "19e93dd7",
   "metadata": {},
   "outputs": [
    {
     "data": {
      "image/png": "[encoded data removed]",
      "text/plain": [
       "<Figure size 864x576 with 1 Axes>"
      ]
     },
     "metadata": {
      "needs_background": "light"
     },
     "output_type": "display_data"
    }
   ],
   "source": [
    "ax = sns.countplot(x=\"Gênero\", data=df3)"
   ]
  },
  {
   "cell_type": "code",
   "execution_count": 43,
   "id": "76f4ddcb",
   "metadata": {},
   "outputs": [
    {
     "data": {
      "text/plain": [
       "<matplotlib.legend.Legend at 0x1bb4534a1c0>"
      ]
     },
     "execution_count": 43,
     "metadata": {},
     "output_type": "execute_result"
    },
    {
     "data": {
      "image/png": "[encoded data removed]",
      "text/plain": [
       "<Figure size 864x576 with 1 Axes>"
      ]
     },
     "metadata": {
      "needs_background": "light"
     },
     "output_type": "display_data"
    }
   ],
   "source": [
    "g = sns.countplot(df3['escore'], hue = df3['Gênero'])\n",
    "plt.legend(loc='upper right')"
   ]
  },
  {
   "cell_type": "markdown",
   "id": "4c1b3f34",
   "metadata": {},
   "source": [
    "<b> Verificando a questão de renda familiar <b> "
   ]
  },
  {
   "cell_type": "code",
   "execution_count": 52,
   "id": "210a3427",
   "metadata": {},
   "outputs": [
    {
     "data": {
      "text/plain": [
       "11.000000    1044\n",
       "6.000000      678\n",
       "7.000000      535\n",
       "8.000000      485\n",
       "3.000000      440\n",
       "5.000000      426\n",
       "4.000000      412\n",
       "9.000000      297\n",
       "2.000000      281\n",
       "10.000000     278\n",
       "1.000000      190\n",
       "12.000000      78\n",
       "99.000000      77\n",
       "0.307279       47\n",
       "77.000000      36\n",
       "13.000000      30\n",
       "Name: Renda_Familiar, dtype: int64"
      ]
     },
     "execution_count": 52,
     "metadata": {},
     "output_type": "execute_result"
    }
   ],
   "source": [
    "df3['Renda_Familiar'].value_counts()"
   ]
  },
  {
   "cell_type": "code",
   "execution_count": 72,
   "id": "540bd3bb",
   "metadata": {},
   "outputs": [],
   "source": [
    "replace_map = {\n",
    "'Renda_Familiar': {1: np.mean([0,4999]), 2: np.mean([5000,9999]), 3: np.mean([10000,14999]),4: np.mean([15000,19999]),\n",
    "               5: np.mean([20000,24999]),6: np.mean([25000,34999]), 7: np.mean([35000,44999]), 8: np.mean([45000,54999]),\n",
    "               9: np.mean([55000,64999]), 10: np.mean([65000,74999]), 11: 75000, 12: np.mean([20000, 90000]), 13: np.mean([0, 19999]),\n",
    "               77: np.nan, 99: np.nan}\n",
    "}\n",
    "\n",
    "df3 = df3.replace(replace_map)"
   ]
  },
  {
   "cell_type": "code",
   "execution_count": 73,
   "id": "4cbb4232",
   "metadata": {},
   "outputs": [
    {
     "data": {
      "text/plain": [
       "75000.000000    1044\n",
       "29999.500000     678\n",
       "39999.500000     535\n",
       "49999.500000     485\n",
       "12499.500000     440\n",
       "22499.500000     426\n",
       "17499.500000     412\n",
       "59999.500000     297\n",
       "7499.500000      281\n",
       "69999.500000     278\n",
       "2499.500000      190\n",
       "55000.000000      78\n",
       "0.307279          47\n",
       "9999.500000       30\n",
       "Name: Renda_Familiar, dtype: int64"
      ]
     },
     "execution_count": 73,
     "metadata": {},
     "output_type": "execute_result"
    }
   ],
   "source": [
    "df3['Renda_Familiar'].value_counts()"
   ]
  },
  {
   "cell_type": "markdown",
   "id": "8baf45a1",
   "metadata": {},
   "source": [
    "<b> Verificando a questão de tempo de atividade <b>"
   ]
  },
  {
   "cell_type": "markdown",
   "id": "1a96f712",
   "metadata": {},
   "source": [
    "Temos valores de Tempo_Atividade = 10777.829099, sendo que uma semana tem no máximo 168 horas (10080 minutos), o valor máximo de não parece ser um valor possível. Nesse caso, iremos truncar o valor de PAG_MINW em 3600 minutos (60h semanais)."
   ]
  },
  {
   "cell_type": "code",
   "execution_count": 85,
   "id": "a80cb346",
   "metadata": {},
   "outputs": [],
   "source": [
    "df3[\"Tempo_Atividade\"] = np.where(df3['Tempo_Atividade'] > 3600, 3600, df3['Tempo_Atividade'])"
   ]
  },
  {
   "cell_type": "code",
   "execution_count": 82,
   "id": "cc5863b8",
   "metadata": {},
   "outputs": [],
   "source": [
    "df3[\"Tempo_Atividade\"] = df3[\"Tempo_Atividade\"]/60"
   ]
  },
  {
   "cell_type": "code",
   "execution_count": 83,
   "id": "fbafdd1c",
   "metadata": {},
   "outputs": [
    {
     "data": {
      "text/plain": [
       "0.000000    950\n",
       "0.000128    102\n",
       "0.000257     95\n",
       "0.000577     70\n",
       "0.001925     68\n",
       "           ... \n",
       "0.003950      1\n",
       "0.011740      1\n",
       "0.004358      1\n",
       "0.010884      1\n",
       "0.003176      1\n",
       "Name: Tempo_Atividade, Length: 1744, dtype: int64"
      ]
     },
     "execution_count": 83,
     "metadata": {},
     "output_type": "execute_result"
    }
   ],
   "source": [
    "df3['Tempo_Atividade'].value_counts()"
   ]
  },
  {
   "cell_type": "markdown",
   "id": "882b598e",
   "metadata": {},
   "source": [
    "<b> Plotando as duas variáveis <b>"
   ]
  },
  {
   "cell_type": "code",
   "execution_count": 84,
   "id": "103fd827",
   "metadata": {},
   "outputs": [
    {
     "data": {
      "image/png": "[encoded data removed]",
      "text/plain": [
       "<Figure size 360x360 with 1 Axes>"
      ]
     },
     "metadata": {
      "needs_background": "light"
     },
     "output_type": "display_data"
    },
    {
     "data": {
      "image/png": "[encoded data removed]",
      "text/plain": [
       "<Figure size 360x360 with 1 Axes>"
      ]
     },
     "metadata": {
      "needs_background": "light"
     },
     "output_type": "display_data"
    }
   ],
   "source": [
    "sns.displot(df3, x=\"Tempo_Atividade\", kde=True)\n",
    "sns.displot(df3, x=\"Renda_Familiar\", kde=True)\n",
    "\n",
    "plt.show()"
   ]
  },
  {
   "cell_type": "markdown",
   "id": "9a071331",
   "metadata": {},
   "source": [
    "<b> Verificando a questão de Raça/Etnia <b> \n",
    "    \n",
    "1\tMexican American\t\n",
    "2\tOther Hispanic\n",
    "3\tNon-Hispanic White\t\n",
    "4\tNon-Hispanic Black\t\n",
    "5\tOther Race - Including Multi-Racial"
   ]
  },
  {
   "cell_type": "code",
   "execution_count": 79,
   "id": "f4b8d9f7",
   "metadata": {},
   "outputs": [
    {
     "data": {
      "text/plain": [
       "Raça/Etnia\n",
       "1             1133\n",
       "2              164\n",
       "3             2516\n",
       "4             1300\n",
       "5              221\n",
       "dtype: int64"
      ]
     },
     "execution_count": 79,
     "metadata": {},
     "output_type": "execute_result"
    }
   ],
   "source": [
    "df3[[\"Raça/Etnia\"]].value_counts(sort = False)"
   ]
  },
  {
   "cell_type": "code",
   "execution_count": 78,
   "id": "e6dcc682",
   "metadata": {},
   "outputs": [
    {
     "data": {
      "image/png": "[encoded data removed]",
      "text/plain": [
       "<Figure size 864x576 with 1 Axes>"
      ]
     },
     "metadata": {
      "needs_background": "light"
     },
     "output_type": "display_data"
    }
   ],
   "source": [
    "ax = sns.countplot(x=\"Raça/Etnia\", data=df3)"
   ]
  },
  {
   "cell_type": "code",
   "execution_count": 94,
   "id": "136c7076",
   "metadata": {},
   "outputs": [
    {
     "data": {
      "image/png": "[encoded data removed]",
      "text/plain": [
       "<Figure size 864x576 with 1 Axes>"
      ]
     },
     "metadata": {
      "needs_background": "light"
     },
     "output_type": "display_data"
    }
   ],
   "source": [
    "ax = sns.boxplot(x=\"Raça/Etnia\", y=\"Score_Total\", data=df3)"
   ]
  },
  {
   "cell_type": "markdown",
   "id": "896530ba",
   "metadata": {},
   "source": [
    "<b> Teste de hipóteses <b> "
   ]
  },
  {
   "cell_type": "markdown",
   "id": "0a87b75e",
   "metadata": {},
   "source": [
    "Com relação a idade:"
   ]
  },
  {
   "cell_type": "code",
   "execution_count": 118,
   "id": "5c9f6370",
   "metadata": {},
   "outputs": [
    {
     "name": "stdout",
     "output_type": "stream",
     "text": [
      "stat=1.399, p=0.247\n"
     ]
    }
   ],
   "source": [
    "from scipy.stats import f_oneway\n",
    "\n",
    "db_aux = df3[[\"phq_grp2\", \"Idade\"]].dropna()\n",
    "\n",
    "stat, p = f_oneway(db_aux[(db_aux.phq_grp2 == 0)][\"Idade\"],\n",
    "                   db_aux[(db_aux.phq_grp2 == 1)][\"Idade\"],\n",
    "                   db_aux[(db_aux.phq_grp2 == 2)][\"Idade\"])\n",
    "\n",
    "print('stat=%.3f, p=%.3f' % (stat, p))"
   ]
  },
  {
   "cell_type": "code",
   "execution_count": 119,
   "id": "eeb3d5fb",
   "metadata": {},
   "outputs": [
    {
     "name": "stdout",
     "output_type": "stream",
     "text": [
      "Multiple Comparison of Means - Tukey HSD, FWER=0.05\n",
      "===================================================\n",
      "group1 group2 meandiff p-adj   lower  upper  reject\n",
      "---------------------------------------------------\n",
      "   0.0    1.0  -1.0819 0.4929  -3.318 1.1542  False\n",
      "   0.0    2.0   1.3045 0.4941 -1.3963 4.0052  False\n",
      "   1.0    2.0   2.3864 0.2193  -0.976 5.7487  False\n",
      "---------------------------------------------------\n"
     ]
    }
   ],
   "source": [
    "from statsmodels.stats.multicomp import pairwise_tukeyhsd\n",
    "\n",
    "tukey1 = pairwise_tukeyhsd(db_aux['Idade'],\n",
    "                  db_aux['phq_grp2'],\n",
    "                  alpha = 0.05)\n",
    "\n",
    "print(tukey1)"
   ]
  },
  {
   "cell_type": "markdown",
   "id": "f9182c0a",
   "metadata": {},
   "source": [
    "Neste caso queremos comparar a média de idade para os três grupos de sintomas de depressão. Sendo assim, o teste F da ANOVA será utilizado (quantitativa x qualitativa). Neste teste, decidimos entre a hipótese nula \"Não existe diferença entre os grupos de depressão com relação à média de idade\" e a hipótese alternativa \"Existe pelo menos uma diferença na média de idade entre os grupos de sintomas de depressão\"."
   ]
  },
  {
   "cell_type": "markdown",
   "id": "3eee6c2c",
   "metadata": {},
   "source": [
    "Neste caso, a probabilidade é alta (p = 0.247), ou seja, o que estamos observando na amostra é algo bem provável de ocorrer se a hipótese nula for verdadeira e, portanto, não temos indícios para rejeitar a hipótese nula. Sendo assim, não conseguimos detectar uma diferença estatisticamente significativa entre os grupos de depressão com relação à media de idade."
   ]
  },
  {
   "cell_type": "markdown",
   "id": "96ce3643",
   "metadata": {},
   "source": [
    "Com relação a renda familiar:"
   ]
  },
  {
   "cell_type": "code",
   "execution_count": 113,
   "id": "fb59ec99",
   "metadata": {},
   "outputs": [
    {
     "name": "stdout",
     "output_type": "stream",
     "text": [
      "stat=52.293, p=0.000\n"
     ]
    }
   ],
   "source": [
    "db_aux = df3[[\"phq_grp2\", \"Renda_Familiar\"]].dropna()\n",
    "\n",
    "stat, p = f_oneway(db_aux[(db_aux.phq_grp2 == 0)][\"Renda_Familiar\"],\n",
    "                   db_aux[(db_aux.phq_grp2 == 1)][\"Renda_Familiar\"],\n",
    "                   db_aux[(db_aux.phq_grp2 == 2)][\"Renda_Familiar\"])\n",
    "\n",
    "print('stat=%.3f, p=%.3f' % (stat, p))"
   ]
  },
  {
   "cell_type": "code",
   "execution_count": 117,
   "id": "addba6fb",
   "metadata": {},
   "outputs": [
    {
     "name": "stdout",
     "output_type": "stream",
     "text": [
      "     Multiple Comparison of Means - Tukey HSD, FWER=0.05     \n",
      "=============================================================\n",
      "group1 group2   meandiff  p-adj    lower      upper    reject\n",
      "-------------------------------------------------------------\n",
      "   0.0    1.0  -5338.3038   0.0  -8065.6024 -2611.0053   True\n",
      "   0.0    2.0 -13250.6997  -0.0 -16526.4186 -9974.9809   True\n",
      "   1.0    2.0  -7912.3959   0.0 -12000.2954 -3824.4964   True\n",
      "-------------------------------------------------------------\n"
     ]
    }
   ],
   "source": [
    "tukey2 = pairwise_tukeyhsd(db_aux['Renda_Familiar'],\n",
    "                  db_aux['phq_grp2'],\n",
    "                  alpha = 0.05)\n",
    "\n",
    "print(tukey2)"
   ]
  },
  {
   "cell_type": "markdown",
   "id": "195e4bde",
   "metadata": {},
   "source": [
    "Com as comparações múltiplas, estamos realizando três testes de hipótese simultaneamente. Por conta disso, a função ajusta o valor-p para que o erro máximo desde conjunto de teste de hipóteses seja no máximo alpha = 0.05.\n",
    "\n",
    "Teste 1: Grupo 0 (Sem sintomas) x Grupo 1 (sintomas leves) -> p = 0.001\n",
    "\n",
    "Teste 2: Grupo 0 (Sem sintomas) x Grupo 2 (sintomas moderados-severos) -> p = 0.001\n",
    "\n",
    "Teste 3: Grupo 1 (sintomas leves) x Grupo 2 (sintomas moderados-severos) -> p = 0.001\n",
    "\n",
    "Neste caso, rejeitamos todas as hipóteses nulas. Sendo assim, temos indícios de que:\n",
    "\n",
    "A renda média do grupo Sem sintomas é diferente da renda média do grupo de sintomas leves\n",
    "A renda média do grupo Sem sintomas é diferente da renda média do grupo de sintomas moderados-severos\n",
    "A renda média do grupo sintomas leves é diferente da renda média do grupo sintomas moderados-severos"
   ]
  }
 ],
 "metadata": {
  "kernelspec": {
   "display_name": "Python 3 (ipykernel)",
   "language": "python",
   "name": "python3"
  },
  "language_info": {
   "codemirror_mode": {
    "name": "ipython",
    "version": 3
   },
   "file_extension": ".py",
   "mimetype": "text/x-python",
   "name": "python",
   "nbconvert_exporter": "python",
   "pygments_lexer": "ipython3",
   "version": "3.9.12"
  }
 },
 "nbformat": 4,
 "nbformat_minor": 5
}
